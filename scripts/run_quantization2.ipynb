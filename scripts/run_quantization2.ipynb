{
 "cells": [
  {
   "cell_type": "code",
   "execution_count": 1,
   "id": "23dc4792",
   "metadata": {},
   "outputs": [],
   "source": [
    "import os\n",
    "import random\n",
    "import numpy as np\n",
    "import torch\n",
    "import torchvision\n",
    "from torchsummary import summary\n",
    "\n",
    "from fpga_nn_backend.datasets import *\n",
    "from fpga_nn_backend.training import *\n",
    "from fpga_nn_backend.evaluation import *\n",
    "from fpga_nn_backend.models.relu_toy_models import *\n",
    "from fpga_nn_backend.quantization import *\n",
    "from fpga_nn_backend.fpga_simple.emulation import *\n",
    "from fpga_nn_backend.fpga_simple.conversion import *\n",
    "from fpga_nn_backend.utils import *"
   ]
  },
  {
   "cell_type": "code",
   "execution_count": 2,
   "id": "467669b7",
   "metadata": {},
   "outputs": [
    {
     "name": "stdout",
     "output_type": "stream",
     "text": [
      "PyTorch Version: 1.10.0\n",
      "Torchvision Version: 0.11.1\n",
      "WARNING: Could not find GPU! Using CPU only\n"
     ]
    }
   ],
   "source": [
    "print(\"PyTorch Version:\", torch.__version__)\n",
    "print(\"Torchvision Version:\", torchvision.__version__)\n",
    "# Detect if we have a GPU available\n",
    "device = torch.device(\"cuda\" if torch.cuda.is_available() else \"cpu\")\n",
    "if torch.cuda.is_available():\n",
    "    print(\"Using the GPU!\")\n",
    "else:\n",
    "    print(\"WARNING: Could not find GPU! Using CPU only\")"
   ]
  },
  {
   "cell_type": "code",
   "execution_count": 3,
   "id": "3ebc2217",
   "metadata": {},
   "outputs": [],
   "source": [
    "data_dir = get_rel_pkg_path(\"dataset/\")\n",
    "weights_dir = get_rel_pkg_path(\"weights/\")\n",
    "session_dir = get_rel_pkg_path(\"sessions/\")\n",
    "models_dir = get_rel_pkg_path(\"models/\")"
   ]
  },
  {
   "cell_type": "code",
   "execution_count": 4,
   "id": "2143ab9e",
   "metadata": {},
   "outputs": [],
   "source": [
    "dataset_type = ImageDatasetType.MNIST"
   ]
  },
  {
   "cell_type": "code",
   "execution_count": 5,
   "id": "98bc6d0e",
   "metadata": {},
   "outputs": [],
   "source": [
    "orig_datasets = get_img_dataset(data_dir, dataset_type)"
   ]
  },
  {
   "cell_type": "code",
   "execution_count": 6,
   "id": "f6501354",
   "metadata": {},
   "outputs": [],
   "source": [
    "datasets = apply_img_transforms(orig_datasets, dataset_type, flatten=True)"
   ]
  },
  {
   "cell_type": "code",
   "execution_count": 7,
   "id": "b031d325",
   "metadata": {},
   "outputs": [],
   "source": [
    "dataloaders = get_dataloaders(datasets, 128, 128, num_workers=0)"
   ]
  },
  {
   "cell_type": "code",
   "execution_count": 15,
   "id": "c0769d0f",
   "metadata": {},
   "outputs": [],
   "source": [
    "input_dim = IMG_DATASET_TO_IMG_SIZE_FLAT[dataset_type]\n",
    "num_classes = IMG_DATASET_TO_NUM_CLASSES[dataset_type]\n",
    "\n",
    "model = ReLUToyModel(input_dim, num_classes, layer_dims=[])\n",
    "model = model.to(device)"
   ]
  },
  {
   "cell_type": "code",
   "execution_count": 16,
   "id": "197f117e",
   "metadata": {},
   "outputs": [],
   "source": [
    "model = QuantWrapper(model)"
   ]
  },
  {
   "cell_type": "code",
   "execution_count": 17,
   "id": "2d09605a",
   "metadata": {},
   "outputs": [
    {
     "name": "stdout",
     "output_type": "stream",
     "text": [
      "----------------------------------------------------------------\n",
      "        Layer (type)               Output Shape         Param #\n",
      "================================================================\n",
      "         QuantStub-1                  [-1, 784]               0\n",
      "            Linear-2                   [-1, 10]           7,840\n",
      "      ReLUToyModel-3                   [-1, 10]               0\n",
      "       DeQuantStub-4                   [-1, 10]               0\n",
      "================================================================\n",
      "Total params: 7,840\n",
      "Trainable params: 7,840\n",
      "Non-trainable params: 0\n",
      "----------------------------------------------------------------\n",
      "Input size (MB): 0.00\n",
      "Forward/backward pass size (MB): 0.01\n",
      "Params size (MB): 0.03\n",
      "Estimated Total Size (MB): 0.04\n",
      "----------------------------------------------------------------\n"
     ]
    }
   ],
   "source": [
    "summary(model, (input_dim,))"
   ]
  },
  {
   "cell_type": "code",
   "execution_count": 18,
   "id": "c5f2857c",
   "metadata": {},
   "outputs": [],
   "source": [
    "# model.load_state_dict(torch.load(os.path.join(weights_dir, r\"Experiment 11-18-2021 11-04-36 PM\\Weights Best.pckl\")))"
   ]
  },
  {
   "cell_type": "code",
   "execution_count": 19,
   "id": "88a69c54",
   "metadata": {},
   "outputs": [],
   "source": [
    "# model.load_state_dict(torch.load(os.path.join(weights_dir, r\"Experiment 11-20-2021 06-39-40 PM\\Weights Best.pckl\")))"
   ]
  },
  {
   "cell_type": "code",
   "execution_count": 20,
   "id": "bb6f35ad",
   "metadata": {},
   "outputs": [
    {
     "data": {
      "text/plain": [
       "<All keys matched successfully>"
      ]
     },
     "execution_count": 20,
     "metadata": {},
     "output_type": "execute_result"
    }
   ],
   "source": [
    "model.load_state_dict(torch.load(os.path.join(weights_dir, r\"Experiment 12-07-2021 11-47-53 PM\\Weights Best.pckl\")))"
   ]
  },
  {
   "cell_type": "code",
   "execution_count": 21,
   "id": "20dacd8e",
   "metadata": {},
   "outputs": [],
   "source": [
    "criterion = get_loss()\n",
    "criterion = criterion.to(device)"
   ]
  },
  {
   "cell_type": "code",
   "execution_count": 22,
   "id": "8d0be415",
   "metadata": {},
   "outputs": [
    {
     "name": "stderr",
     "output_type": "stream",
     "text": [
      "100%|██████████████████████████████████████████████████████████████████████████████████| 79/79 [00:02<00:00, 30.11it/s]\n",
      "C:\\Users\\Shahir\\anaconda3\\envs\\py3-dl\\lib\\site-packages\\torch\\ao\\quantization\\observer.py:886: UserWarning: __floordiv__ is deprecated, and its behavior will change in a future version of pytorch. It currently rounds toward 0 (like the 'trunc' function NOT 'floor'). This results in incorrect rounding for negative values. To keep the current behavior, use torch.div(a, b, rounding_mode='trunc'), or for actual floor division, use torch.div(a, b, rounding_mode='floor').\n",
      "  src_bin_begin // dst_bin_width, 0, self.dst_nbins - 1\n",
      "C:\\Users\\Shahir\\anaconda3\\envs\\py3-dl\\lib\\site-packages\\torch\\ao\\quantization\\observer.py:891: UserWarning: __floordiv__ is deprecated, and its behavior will change in a future version of pytorch. It currently rounds toward 0 (like the 'trunc' function NOT 'floor'). This results in incorrect rounding for negative values. To keep the current behavior, use torch.div(a, b, rounding_mode='trunc'), or for actual floor division, use torch.div(a, b, rounding_mode='floor').\n",
      "  src_bin_end // dst_bin_width, 0, self.dst_nbins - 1\n"
     ]
    }
   ],
   "source": [
    "model.eval()\n",
    "model.qconfig = torch.quantization.get_default_qconfig('fbgemm')\n",
    "#torch.quantization.fuse_modules(model.model.layers, [['0', '1'], ['2', '3'], ['4', '5'], ['6', '7']], inplace=True)\n",
    "model = torch.quantization.prepare(model)\n",
    "stats = get_dataloader_stats(dataloaders['test'], model, criterion, device)\n",
    "model_int8 = torch.quantization.convert(model)"
   ]
  },
  {
   "cell_type": "code",
   "execution_count": 23,
   "id": "c01a60c7",
   "metadata": {},
   "outputs": [
    {
     "name": "stdout",
     "output_type": "stream",
     "text": [
      "Accuracy: 0.9034\n"
     ]
    }
   ],
   "source": [
    "print(\"Accuracy:\", stats['acc'])"
   ]
  },
  {
   "cell_type": "code",
   "execution_count": 24,
   "id": "d6ea8f26",
   "metadata": {},
   "outputs": [
    {
     "data": {
      "text/plain": [
       "QuantWrapper(\n",
       "  (model): ReLUToyModel(\n",
       "    (layers): Sequential(\n",
       "      (0): QuantizedLinear(in_features=784, out_features=10, scale=0.20200112462043762, zero_point=59, qscheme=torch.per_channel_affine)\n",
       "    )\n",
       "  )\n",
       "  (quant): Quantize(scale=tensor([0.0079]), zero_point=tensor([0]), dtype=torch.quint8)\n",
       "  (dequant): DeQuantize()\n",
       ")"
      ]
     },
     "execution_count": 24,
     "metadata": {},
     "output_type": "execute_result"
    }
   ],
   "source": [
    "model_int8"
   ]
  },
  {
   "cell_type": "code",
   "execution_count": 28,
   "id": "ca02df67",
   "metadata": {},
   "outputs": [
    {
     "data": {
      "text/plain": [
       "tensor([[  7, -11, -13,  ...,  -6,   9,   6],\n",
       "        [ -4,  -8,  -3,  ...,  -6,  -3,  -5],\n",
       "        [ 14, -14, -14,  ...,   0,  -1,  10],\n",
       "        ...,\n",
       "        [ -5, -11,   7,  ...,  -3,   8,  -9],\n",
       "        [ 16,   7,  12,  ...,  -4,  12, -13],\n",
       "        [ -8,   2,   3,  ...,   7,  10,   0]], dtype=torch.int8)"
      ]
     },
     "execution_count": 28,
     "metadata": {},
     "output_type": "execute_result"
    }
   ],
   "source": [
    "model_int8.model.layers[0].weight().int_repr()"
   ]
  },
  {
   "cell_type": "code",
   "execution_count": 29,
   "id": "7c0926ad",
   "metadata": {},
   "outputs": [
    {
     "name": "stderr",
     "output_type": "stream",
     "text": [
      "100%|██████████████████████████████████████████████████████████████████████████████████| 79/79 [00:02<00:00, 32.04it/s]\n"
     ]
    }
   ],
   "source": [
    "stats = get_dataloader_stats(dataloaders['test'], model_int8, criterion, device)"
   ]
  },
  {
   "cell_type": "code",
   "execution_count": 30,
   "id": "f595a7ad",
   "metadata": {},
   "outputs": [
    {
     "name": "stdout",
     "output_type": "stream",
     "text": [
      "Accuracy: 0.9037\n"
     ]
    }
   ],
   "source": [
    "print(\"Accuracy:\", stats['acc'])"
   ]
  },
  {
   "cell_type": "code",
   "execution_count": 31,
   "id": "d6b47e3c",
   "metadata": {},
   "outputs": [],
   "source": [
    "def safe_get_param(param):\n",
    "    if param is not None:\n",
    "        return param.int_repr().numpy()\n",
    "    else:\n",
    "        return None"
   ]
  },
  {
   "cell_type": "code",
   "execution_count": 33,
   "id": "e5dbd6a2",
   "metadata": {},
   "outputs": [],
   "source": [
    "converted_nn = ConvertedNN((1, 28, 28))\n",
    "\n",
    "converted_nn.add_flatten_layer((1, 28, 28), 0, 0)\n",
    "\n",
    "converted_nn.add_dense_layer((784,), (10,), 0, 0,\n",
    "    weight=safe_get_param(model_int8.model.layers[0].weight()),\n",
    "    bias=safe_get_param(model_int8.model.layers[0].bias()))\n",
    "\n",
    "converted_nn.add_output_layer((10,), 0, 0)"
   ]
  },
  {
   "cell_type": "code",
   "execution_count": 34,
   "id": "2fea43ac",
   "metadata": {},
   "outputs": [
    {
     "data": {
      "text/plain": [
       "QuantizedLinear(in_features=784, out_features=10, scale=0.20200112462043762, zero_point=59, qscheme=torch.per_channel_affine)"
      ]
     },
     "execution_count": 34,
     "metadata": {},
     "output_type": "execute_result"
    }
   ],
   "source": [
    "model_int8.model.layers[0]"
   ]
  },
  {
   "cell_type": "code",
   "execution_count": 35,
   "id": "8e1ab99b",
   "metadata": {},
   "outputs": [],
   "source": [
    "converted_nn.finalize()"
   ]
  },
  {
   "cell_type": "code",
   "execution_count": 36,
   "id": "1877a245",
   "metadata": {
    "scrolled": true
   },
   "outputs": [
    {
     "data": {
      "text/plain": [
       "{'layers': [{'layer_type': <ConverterLayerType.FLATTEN: 5>,\n",
       "   'input_shapes': ((1, 28, 28),),\n",
       "   'output_shape': (784,),\n",
       "   'output_size': 784,\n",
       "   'stack_input_indices': (0,),\n",
       "   'stack_output_index': 0,\n",
       "   'parameters': None,\n",
       "   'metadata': None},\n",
       "  {'layer_type': <ConverterLayerType.DENSE: 0>,\n",
       "   'input_shapes': ((784,),),\n",
       "   'output_shape': (10,),\n",
       "   'output_size': 10,\n",
       "   'stack_input_indices': (0,),\n",
       "   'stack_output_index': 0,\n",
       "   'parameters': {'weight': 0},\n",
       "   'metadata': {'has_bias': False}},\n",
       "  {'layer_type': <ConverterLayerType.OUTPUT: 7>,\n",
       "   'input_shapes': ((10,),),\n",
       "   'output_shape': (10,),\n",
       "   'output_size': 10,\n",
       "   'stack_input_indices': (0,),\n",
       "   'stack_output_index': 0,\n",
       "   'parameters': None,\n",
       "   'metadata': None}]}"
      ]
     },
     "execution_count": 36,
     "metadata": {},
     "output_type": "execute_result"
    }
   ],
   "source": [
    "converted_nn.get_layer_info()"
   ]
  },
  {
   "cell_type": "code",
   "execution_count": 37,
   "id": "f24c45d4",
   "metadata": {},
   "outputs": [],
   "source": [
    "with open(\"test.coe\", 'w') as f:\n",
    "    f.write(converted_nn.generate_parameter_coe())"
   ]
  },
  {
   "cell_type": "code",
   "execution_count": 38,
   "id": "7e32910f",
   "metadata": {},
   "outputs": [],
   "source": [
    "emulator = FPGAEmulator(converted_nn, bram_reserved_size=303000)"
   ]
  },
  {
   "cell_type": "code",
   "execution_count": 39,
   "id": "530cab97",
   "metadata": {
    "scrolled": true
   },
   "outputs": [
    {
     "data": {
      "text/plain": [
       "{'input_shape': (1, 28, 28),\n",
       " 'inital_input_addr': 0,\n",
       " 'layers': [{'layer_type': <LayerType.DENSE: 0>,\n",
       "   'config': {'has_bias': None,\n",
       "    'input_base_addr': 0,\n",
       "    'weight_base_addr': 0,\n",
       "    'bias_base_addr': 0,\n",
       "    'output_base_addr': 784,\n",
       "    'm_size': 10,\n",
       "    'chw_size': 784}},\n",
       "  {'layer_type': <LayerType.MOVE: 5>,\n",
       "   'config': {'input_base_addr': 784, 'output_base_addr': 0, 'n_size': 10}},\n",
       "  {'layer_type': <LayerType.OUTPUT: 6>,\n",
       "   'config': {'output_base_addr': 0, 'n_size': 10}}]}"
      ]
     },
     "execution_count": 39,
     "metadata": {},
     "output_type": "execute_result"
    }
   ],
   "source": [
    "emulator.exec_info"
   ]
  },
  {
   "cell_type": "code",
   "execution_count": 40,
   "id": "1a5fdd56",
   "metadata": {
    "scrolled": true
   },
   "outputs": [
    {
     "name": "stdout",
     "output_type": "stream",
     "text": [
      "[  0   0   0   0   0   0   0   0   0   0   0   0   0   0   0   0   0   0\n",
      "   0   0   0   0   0   0   0   0   0   0   0   0   0   0   0   0   0   0\n",
      "   0   0   0   0   0   0   0   0   0   0   0   0   0   0   0   0   0   0\n",
      "   0   0   0   0   0   0   0   0   0   0   0   0   0   0   0   0   0   0\n",
      "   0   0   0   0   0   0   0   0   0   0   0   0   0   0   0   0   0   0\n",
      "   0   0   0   0   0   0   0   0   0   0   0   0   0   0   0   0   0   0\n",
      "   0   0   0   0   0   0   0   0   0   0   0   0   0   0   0   0   0   0\n",
      "   0   0   0   0   0   0   0   0   0   0   0   0   0   0   0   0   0   0\n",
      "   0   0   0   0   0   0   0   0   0   0   0   0   0   0   0   0   0   0\n",
      "   0   0   0   0   0   0   0   0   0   0   0   0   0   0   0   0   0   0\n",
      "   0   0   0   0   0   0   0   0   0   0   0   0   0   0   0   0   0   0\n",
      "   0   0   0   0  42  92  79  75  30  18   0   0   0   0   0   0   0   0\n",
      "   0   0   0   0   0   0   0   0   0   0   0   0   0   0 111 127 127 127\n",
      " 127 120  99  99  99  99  99  99  99  99  85  26   0   0   0   0   0   0\n",
      "   0   0   0   0   0   0  33  57  36  57  81 113 127 112 127 127 127 125\n",
      " 114 127 127  70   0   0   0   0   0   0   0   0   0   0   0   0   0   0\n",
      "   0   0   0   8  33   7  33  33  33  29  10 118 127  53   0   0   0   0\n",
      "   0   0   0   0   0   0   0   0   0   0   0   0   0   0   0   0   0   0\n",
      "   0   0  41 126 104   9   0   0   0   0   0   0   0   0   0   0   0   0\n",
      "   0   0   0   0   0   0   0   0   0   0   0  11 116 127  41   0   0   0\n",
      "   0   0   0   0   0   0   0   0   0   0   0   0   0   0   0   0   0   0\n",
      "   0   0   0  64 127 119  22   0   0   0   0   0   0   0   0   0   0   0\n",
      "   0   0   0   0   0   0   0   0   0   0   0   0  29 124 127  31   0   0\n",
      "   0   0   0   0   0   0   0   0   0   0   0   0   0   0   0   0   0   0\n",
      "   0   0   0   0  66 127  93   2   0   0   0   0   0   0   0   0   0   0\n",
      "   0   0   0   0   0   0   0   0   0   0   0   0   0   4 102 124  29   0\n",
      "   0   0   0   0   0   0   0   0   0   0   0   0   0   0   0   0   0   0\n",
      "   0   0   0   0   0  63 127  91   0   0   0   0   0   0   0   0   0   0\n",
      "   0   0   0   0   0   0   0   0   0   0   0   0   0   0  37 125 120  28\n",
      "   0   0   0   0   0   0   0   0   0   0   0   0   0   0   0   0   0   0\n",
      "   0   0   0   0   0   9 110 127  83   0   0   0   0   0   0   0   0   0\n",
      "   0   0   0   0   0   0   0   0   0   0   0   0   0   0   1 101 127 109\n",
      "  17   0   0   0   0   0   0   0   0   0   0   0   0   0   0   0   0   0\n",
      "   0   0   0   0   0   0  19 127 127  38   0   0   0   0   0   0   0   0\n",
      "   0   0   0   0   0   0   0   0   0   0   0   0   0   0   0  15 112 127\n",
      "  57   0   0   0   0   0   0   0   0   0   0   0   0   0   0   0   0   0\n",
      "   0   0   0   0   0   0   0  66 127 127  26   0   0   0   0   0   0   0\n",
      "   0   0   0   0   0   0   0   0   0   0   0   0   0   0   0   0  30 121\n",
      " 127 127  26   0   0   0   0   0   0   0   0   0   0   0   0   0   0   0\n",
      "   0   0   0   0   0   0   0   0  60 127 127 109  20   0   0   0   0   0\n",
      "   0   0   0   0   0   0   0   0   0   0   0   0   0   0   0   0   0   0\n",
      "  60 127 103   9   0   0   0   0   0   0   0   0   0   0   0   0   0   0\n",
      "   0   0   0   0   0   0   0   0   0   0   0   0   0   0   0   0   0   0\n",
      "   0   0   0   0   0   0   0   0   0   0]\n"
     ]
    }
   ],
   "source": [
    "for imgs, labels in dataloaders['test']:\n",
    "    break\n",
    "data = (imgs[0] * 255).numpy()\n",
    "data = (data/2).astype(np.int8)\n",
    "print(data)"
   ]
  },
  {
   "cell_type": "code",
   "execution_count": 41,
   "id": "2cafc3f8",
   "metadata": {},
   "outputs": [
    {
     "name": "stdout",
     "output_type": "stream",
     "text": [
      "[(10, 784)]\n"
     ]
    }
   ],
   "source": [
    "parameters = converted_nn.parameters_info['parameters']\n",
    "print([p.shape for p in parameters])\n",
    "\n",
    "def dense_no_bias(w, i):\n",
    "    pass\n",
    "\n",
    "def relu(i):\n",
    "    return np.maximum(0, i)"
   ]
  },
  {
   "cell_type": "code",
   "execution_count": 42,
   "id": "32b3ea84",
   "metadata": {},
   "outputs": [],
   "source": [
    "inputs_per_layer = {}\n",
    "outputs_per_layer = {}\n",
    "def get_output(name):\n",
    "    def hook(model, input, output):\n",
    "        inputs_per_layer[name] = input\n",
    "        outputs_per_layer[name] = output.detach()\n",
    "    return hook\n",
    "\n",
    "hooks = {}\n",
    "for name, module in model_int8.named_modules():\n",
    "    hooks[name] = module.register_forward_hook(get_output(name))"
   ]
  },
  {
   "cell_type": "code",
   "execution_count": 43,
   "id": "bbed750f",
   "metadata": {},
   "outputs": [],
   "source": [
    "batch = imgs[None, 0, :]\n",
    "model_out = model_int8(batch)"
   ]
  },
  {
   "cell_type": "code",
   "execution_count": 44,
   "id": "89f47bde",
   "metadata": {},
   "outputs": [
    {
     "data": {
      "text/plain": [
       "dict_keys(['quant', 'model.layers.0', 'model.layers', 'model', 'dequant', ''])"
      ]
     },
     "execution_count": 44,
     "metadata": {},
     "output_type": "execute_result"
    }
   ],
   "source": [
    "outputs_per_layer.keys()"
   ]
  },
  {
   "cell_type": "code",
   "execution_count": 45,
   "id": "40e4de18",
   "metadata": {},
   "outputs": [
    {
     "data": {
      "text/plain": [
       "array([[  0,   0,   0,   0,   0,   0,   0,   0,   0,   0,   0,   0,   0,\n",
       "          0,   0,   0,   0,   0,   0,   0,   0,   0,   0,   0,   0,   0,\n",
       "          0,   0,   0,   0,   0,   0,   0,   0,   0,   0,   0,   0,   0,\n",
       "          0,   0,   0,   0,   0,   0,   0,   0,   0,   0,   0,   0,   0,\n",
       "          0,   0,   0,   0,   0,   0,   0,   0,   0,   0,   0,   0,   0,\n",
       "          0,   0,   0,   0,   0,   0,   0,   0,   0,   0,   0,   0,   0,\n",
       "          0,   0,   0,   0,   0,   0,   0,   0,   0,   0,   0,   0,   0,\n",
       "          0,   0,   0,   0,   0,   0,   0,   0,   0,   0,   0,   0,   0,\n",
       "          0,   0,   0,   0,   0,   0,   0,   0,   0,   0,   0,   0,   0,\n",
       "          0,   0,   0,   0,   0,   0,   0,   0,   0,   0,   0,   0,   0,\n",
       "          0,   0,   0,   0,   0,   0,   0,   0,   0,   0,   0,   0,   0,\n",
       "          0,   0,   0,   0,   0,   0,   0,   0,   0,   0,   0,   0,   0,\n",
       "          0,   0,   0,   0,   0,   0,   0,   0,   0,   0,   0,   0,   0,\n",
       "          0,   0,   0,   0,   0,   0,   0,   0,   0,   0,   0,   0,   0,\n",
       "          0,   0,   0,   0,   0,   0,   0,   0,   0,   0,   0,   0,   0,\n",
       "          0,   0,   0,   0,   0,   0,   0,  42,  92,  79,  75,  30,  18,\n",
       "          0,   0,   0,   0,   0,   0,   0,   0,   0,   0,   0,   0,   0,\n",
       "          0,   0,   0,   0,   0,   0,   0,   0,   0, 111, 127, 127, 127,\n",
       "        127, 120,  99,  99,  99,  99,  99,  99,  99,  99,  85,  26,   0,\n",
       "          0,   0,   0,   0,   0,   0,   0,   0,   0,   0,   0,  33,  57,\n",
       "         36,  57,  81, 113, 127, 112, 127, 127, 127, 125, 114, 127, 127,\n",
       "         70,   0,   0,   0,   0,   0,   0,   0,   0,   0,   0,   0,   0,\n",
       "          0,   0,   0,   0,   0,   8,  33,   7,  33,  33,  33,  29,  10,\n",
       "        118, 127,  53,   0,   0,   0,   0,   0,   0,   0,   0,   0,   0,\n",
       "          0,   0,   0,   0,   0,   0,   0,   0,   0,   0,   0,   0,   0,\n",
       "          0,  41, 126, 104,   9,   0,   0,   0,   0,   0,   0,   0,   0,\n",
       "          0,   0,   0,   0,   0,   0,   0,   0,   0,   0,   0,   0,   0,\n",
       "          0,   0,  11, 116, 127,  41,   0,   0,   0,   0,   0,   0,   0,\n",
       "          0,   0,   0,   0,   0,   0,   0,   0,   0,   0,   0,   0,   0,\n",
       "          0,   0,   0,   0,  64, 127, 119,  22,   0,   0,   0,   0,   0,\n",
       "          0,   0,   0,   0,   0,   0,   0,   0,   0,   0,   0,   0,   0,\n",
       "          0,   0,   0,   0,   0,  29, 124, 127,  31,   0,   0,   0,   0,\n",
       "          0,   0,   0,   0,   0,   0,   0,   0,   0,   0,   0,   0,   0,\n",
       "          0,   0,   0,   0,   0,   0,   0,  66, 127,  93,   2,   0,   0,\n",
       "          0,   0,   0,   0,   0,   0,   0,   0,   0,   0,   0,   0,   0,\n",
       "          0,   0,   0,   0,   0,   0,   0,   0,   4, 102, 124,  29,   0,\n",
       "          0,   0,   0,   0,   0,   0,   0,   0,   0,   0,   0,   0,   0,\n",
       "          0,   0,   0,   0,   0,   0,   0,   0,   0,   0,  63, 127,  91,\n",
       "          0,   0,   0,   0,   0,   0,   0,   0,   0,   0,   0,   0,   0,\n",
       "          0,   0,   0,   0,   0,   0,   0,   0,   0,   0,   0,  37, 125,\n",
       "        120,  28,   0,   0,   0,   0,   0,   0,   0,   0,   0,   0,   0,\n",
       "          0,   0,   0,   0,   0,   0,   0,   0,   0,   0,   0,   0,   9,\n",
       "        110, 127,  83,   0,   0,   0,   0,   0,   0,   0,   0,   0,   0,\n",
       "          0,   0,   0,   0,   0,   0,   0,   0,   0,   0,   0,   0,   0,\n",
       "          1, 101, 127, 109,  17,   0,   0,   0,   0,   0,   0,   0,   0,\n",
       "          0,   0,   0,   0,   0,   0,   0,   0,   0,   0,   0,   0,   0,\n",
       "          0,   0,  19, 127, 127,  38,   0,   0,   0,   0,   0,   0,   0,\n",
       "          0,   0,   0,   0,   0,   0,   0,   0,   0,   0,   0,   0,   0,\n",
       "          0,   0,   0,  15, 112, 127,  57,   0,   0,   0,   0,   0,   0,\n",
       "          0,   0,   0,   0,   0,   0,   0,   0,   0,   0,   0,   0,   0,\n",
       "          0,   0,   0,   0,   0,  66, 127, 127,  26,   0,   0,   0,   0,\n",
       "          0,   0,   0,   0,   0,   0,   0,   0,   0,   0,   0,   0,   0,\n",
       "          0,   0,   0,   0,   0,   0,  30, 121, 127, 127,  26,   0,   0,\n",
       "          0,   0,   0,   0,   0,   0,   0,   0,   0,   0,   0,   0,   0,\n",
       "          0,   0,   0,   0,   0,   0,   0,   0,  60, 127, 127, 109,  20,\n",
       "          0,   0,   0,   0,   0,   0,   0,   0,   0,   0,   0,   0,   0,\n",
       "          0,   0,   0,   0,   0,   0,   0,   0,   0,   0,  60, 127, 103,\n",
       "          9,   0,   0,   0,   0,   0,   0,   0,   0,   0,   0,   0,   0,\n",
       "          0,   0,   0,   0,   0,   0,   0,   0,   0,   0,   0,   0,   0,\n",
       "          0,   0,   0,   0,   0,   0,   0,   0,   0,   0,   0,   0,   0,\n",
       "          0,   0,   0,   0]], dtype=uint8)"
      ]
     },
     "execution_count": 45,
     "metadata": {},
     "output_type": "execute_result"
    }
   ],
   "source": [
    "inputs_per_layer['model.layers.0'][0].int_repr().numpy()"
   ]
  },
  {
   "cell_type": "code",
   "execution_count": 46,
   "id": "80c80bea",
   "metadata": {},
   "outputs": [
    {
     "data": {
      "text/plain": [
       "tensor([[59, 33, 58, 68, 52, 54, 39, 98, 59, 71]], dtype=torch.uint8)"
      ]
     },
     "execution_count": 46,
     "metadata": {},
     "output_type": "execute_result"
    }
   ],
   "source": [
    "outputs_per_layer['model.layers.0'].int_repr()"
   ]
  },
  {
   "cell_type": "code",
   "execution_count": 50,
   "id": "78bc2c7f",
   "metadata": {},
   "outputs": [
    {
     "data": {
      "text/plain": [
       "array([  0,   0,   0,   0,   0,   0,   0,   0,   0,   0,   0,   0,   0,\n",
       "         0,   0,   0,   0,   0,   0,   0,   0,   0,   0,   0,   0,   0,\n",
       "         0,   0,   0,   0,   0,   0,   0,   0,   0,   0,   0,   0,   0,\n",
       "         0,   0,   0,   0,   0,   0,   0,   0,   0,   0,   0,   0,   0,\n",
       "         0,   0,   0,   0,   0,   0,   0,   0,   0,   0,   0,   0,   0,\n",
       "         0,   0,   0,   0,   0,   0,   0,   0,   0,   0,   0,   0,   0,\n",
       "         0,   0,   0,   0,   0,   0,   0,   0,   0,   0,   0,   0,   0,\n",
       "         0,   0,   0,   0,   0,   0,   0,   0,   0,   0,   0,   0,   0,\n",
       "         0,   0,   0,   0,   0,   0,   0,   0,   0,   0,   0,   0,   0,\n",
       "         0,   0,   0,   0,   0,   0,   0,   0,   0,   0,   0,   0,   0,\n",
       "         0,   0,   0,   0,   0,   0,   0,   0,   0,   0,   0,   0,   0,\n",
       "         0,   0,   0,   0,   0,   0,   0,   0,   0,   0,   0,   0,   0,\n",
       "         0,   0,   0,   0,   0,   0,   0,   0,   0,   0,   0,   0,   0,\n",
       "         0,   0,   0,   0,   0,   0,   0,   0,   0,   0,   0,   0,   0,\n",
       "         0,   0,   0,   0,   0,   0,   0,   0,   0,   0,   0,   0,   0,\n",
       "         0,   0,   0,   0,   0,   0,   0,  42,  92,  79,  75,  30,  18,\n",
       "         0,   0,   0,   0,   0,   0,   0,   0,   0,   0,   0,   0,   0,\n",
       "         0,   0,   0,   0,   0,   0,   0,   0,   0, 111, 127, 127, 127,\n",
       "       127, 120,  99,  99,  99,  99,  99,  99,  99,  99,  85,  26,   0,\n",
       "         0,   0,   0,   0,   0,   0,   0,   0,   0,   0,   0,  33,  57,\n",
       "        36,  57,  81, 113, 127, 112, 127, 127, 127, 125, 114, 127, 127,\n",
       "        70,   0,   0,   0,   0,   0,   0,   0,   0,   0,   0,   0,   0,\n",
       "         0,   0,   0,   0,   0,   8,  33,   7,  33,  33,  33,  29,  10,\n",
       "       118, 127,  53,   0,   0,   0,   0,   0,   0,   0,   0,   0,   0,\n",
       "         0,   0,   0,   0,   0,   0,   0,   0,   0,   0,   0,   0,   0,\n",
       "         0,  41, 126, 104,   9,   0,   0,   0,   0,   0,   0,   0,   0,\n",
       "         0,   0,   0,   0,   0,   0,   0,   0,   0,   0,   0,   0,   0,\n",
       "         0,   0,  11, 116, 127,  41,   0,   0,   0,   0,   0,   0,   0,\n",
       "         0,   0,   0,   0,   0,   0,   0,   0,   0,   0,   0,   0,   0,\n",
       "         0,   0,   0,   0,  64, 127, 119,  22,   0,   0,   0,   0,   0,\n",
       "         0,   0,   0,   0,   0,   0,   0,   0,   0,   0,   0,   0,   0,\n",
       "         0,   0,   0,   0,   0,  29, 124, 127,  31,   0,   0,   0,   0,\n",
       "         0,   0,   0,   0,   0,   0,   0,   0,   0,   0,   0,   0,   0,\n",
       "         0,   0,   0,   0,   0,   0,   0,  66, 127,  93,   2,   0,   0,\n",
       "         0,   0,   0,   0,   0,   0,   0,   0,   0,   0,   0,   0,   0,\n",
       "         0,   0,   0,   0,   0,   0,   0,   0,   4, 102, 124,  29,   0,\n",
       "         0,   0,   0,   0,   0,   0,   0,   0,   0,   0,   0,   0,   0,\n",
       "         0,   0,   0,   0,   0,   0,   0,   0,   0,   0,  63, 127,  91,\n",
       "         0,   0,   0,   0,   0,   0,   0,   0,   0,   0,   0,   0,   0,\n",
       "         0,   0,   0,   0,   0,   0,   0,   0,   0,   0,   0,  37, 125,\n",
       "       120,  28,   0,   0,   0,   0,   0,   0,   0,   0,   0,   0,   0,\n",
       "         0,   0,   0,   0,   0,   0,   0,   0,   0,   0,   0,   0,   9,\n",
       "       110, 127,  83,   0,   0,   0,   0,   0,   0,   0,   0,   0,   0,\n",
       "         0,   0,   0,   0,   0,   0,   0,   0,   0,   0,   0,   0,   0,\n",
       "         1, 101, 127, 109,  17,   0,   0,   0,   0,   0,   0,   0,   0,\n",
       "         0,   0,   0,   0,   0,   0,   0,   0,   0,   0,   0,   0,   0,\n",
       "         0,   0,  19, 127, 127,  38,   0,   0,   0,   0,   0,   0,   0,\n",
       "         0,   0,   0,   0,   0,   0,   0,   0,   0,   0,   0,   0,   0,\n",
       "         0,   0,   0,  15, 112, 127,  57,   0,   0,   0,   0,   0,   0,\n",
       "         0,   0,   0,   0,   0,   0,   0,   0,   0,   0,   0,   0,   0,\n",
       "         0,   0,   0,   0,   0,  66, 127, 127,  26,   0,   0,   0,   0,\n",
       "         0,   0,   0,   0,   0,   0,   0,   0,   0,   0,   0,   0,   0,\n",
       "         0,   0,   0,   0,   0,   0,  30, 121, 127, 127,  26,   0,   0,\n",
       "         0,   0,   0,   0,   0,   0,   0,   0,   0,   0,   0,   0,   0,\n",
       "         0,   0,   0,   0,   0,   0,   0,   0,  60, 127, 127, 109,  20,\n",
       "         0,   0,   0,   0,   0,   0,   0,   0,   0,   0,   0,   0,   0,\n",
       "         0,   0,   0,   0,   0,   0,   0,   0,   0,   0,  60, 127, 103,\n",
       "         9,   0,   0,   0,   0,   0,   0,   0,   0,   0,   0,   0,   0,\n",
       "         0,   0,   0,   0,   0,   0,   0,   0,   0,   0,   0,   0,   0,\n",
       "         0,   0,   0,   0,   0,   0,   0,   0,   0,   0,   0,   0,   0,\n",
       "         0,   0,   0,   0], dtype=int8)"
      ]
     },
     "execution_count": 50,
     "metadata": {},
     "output_type": "execute_result"
    }
   ],
   "source": [
    "data"
   ]
  },
  {
   "cell_type": "code",
   "execution_count": 51,
   "id": "57ea1844",
   "metadata": {
    "scrolled": true
   },
   "outputs": [
    {
     "data": {
      "text/plain": [
       "tensor([[  7, -11, -13,  ...,  -6,   9,   6],\n",
       "        [ -4,  -8,  -3,  ...,  -6,  -3,  -5],\n",
       "        [ 14, -14, -14,  ...,   0,  -1,  10],\n",
       "        ...,\n",
       "        [ -5, -11,   7,  ...,  -3,   8,  -9],\n",
       "        [ 16,   7,  12,  ...,  -4,  12, -13],\n",
       "        [ -8,   2,   3,  ...,   7,  10,   0]], dtype=torch.int8)"
      ]
     },
     "execution_count": 51,
     "metadata": {},
     "output_type": "execute_result"
    }
   ],
   "source": [
    "model_int8.model.layers[0].weight().int_repr()"
   ]
  },
  {
   "cell_type": "code",
   "execution_count": 54,
   "id": "cbc8b70e",
   "metadata": {
    "scrolled": true
   },
   "outputs": [
    {
     "data": {
      "text/plain": [
       "array([ 55, 185, 211,  60,  88,  71,  24,  69,  96, 112], dtype=uint8)"
      ]
     },
     "execution_count": 54,
     "metadata": {},
     "output_type": "execute_result"
    }
   ],
   "source": [
    "(parameters[0] @ data).astype(np.uint8)"
   ]
  },
  {
   "cell_type": "code",
   "execution_count": null,
   "id": "a557ed9d",
   "metadata": {},
   "outputs": [],
   "source": [
    "emulator.execute(data)"
   ]
  },
  {
   "cell_type": "code",
   "execution_count": null,
   "id": "62ba25ec",
   "metadata": {},
   "outputs": [],
   "source": [
    "np.where(data > 0)"
   ]
  },
  {
   "cell_type": "code",
   "execution_count": 55,
   "id": "d2a68cfd",
   "metadata": {},
   "outputs": [
    {
     "data": {
      "text/plain": [
       "-17"
      ]
     },
     "execution_count": 55,
     "metadata": {},
     "output_type": "execute_result"
    }
   ],
   "source": [
    "parameters[0].flatten()[202]"
   ]
  },
  {
   "cell_type": "code",
   "execution_count": null,
   "id": "9cd5d113",
   "metadata": {},
   "outputs": [],
   "source": [
    "np.int8(-37*92)"
   ]
  },
  {
   "cell_type": "code",
   "execution_count": 68,
   "id": "c36f61fc",
   "metadata": {},
   "outputs": [
    {
     "data": {
      "text/plain": [
       "QConfig(activation=functools.partial(<class 'torch.ao.quantization.observer.HistogramObserver'>, reduce_range=True){}, weight=functools.partial(<class 'torch.ao.quantization.observer.PerChannelMinMaxObserver'>, dtype=torch.qint8, qscheme=torch.per_channel_symmetric){})"
      ]
     },
     "execution_count": 68,
     "metadata": {},
     "output_type": "execute_result"
    }
   ],
   "source": [
    "torch.quantization.get_default_qconfig('fbgemm')"
   ]
  },
  {
   "cell_type": "code",
   "execution_count": 64,
   "id": "9ea1e7ec",
   "metadata": {},
   "outputs": [],
   "source": [
    "qscheme=torch.per_tensor_affine"
   ]
  },
  {
   "cell_type": "code",
   "execution_count": null,
   "id": "265483bc",
   "metadata": {},
   "outputs": [],
   "source": []
  }
 ],
 "metadata": {
  "kernelspec": {
   "display_name": "Python 3 (ipykernel)",
   "language": "python",
   "name": "python3"
  },
  "language_info": {
   "codemirror_mode": {
    "name": "ipython",
    "version": 3
   },
   "file_extension": ".py",
   "mimetype": "text/x-python",
   "name": "python",
   "nbconvert_exporter": "python",
   "pygments_lexer": "ipython3",
   "version": "3.8.12"
  }
 },
 "nbformat": 4,
 "nbformat_minor": 5
}
