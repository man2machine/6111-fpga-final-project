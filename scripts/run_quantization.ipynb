{
 "cells": [
  {
   "cell_type": "code",
   "execution_count": 1,
   "id": "23dc4792",
   "metadata": {},
   "outputs": [],
   "source": [
    "import os\n",
    "import random\n",
    "import numpy as np\n",
    "import torch\n",
    "import torchvision\n",
    "from torchsummary import summary\n",
    "\n",
    "from fpga_nn_backend.datasets import *\n",
    "from fpga_nn_backend.training import *\n",
    "from fpga_nn_backend.evaluation import *\n",
    "from fpga_nn_backend.models.relu_toy_models import *\n",
    "from fpga_nn_backend.quantization import *\n",
    "from fpga_nn_backend.fpga_simple.emulation import *\n",
    "from fpga_nn_backend.fpga_simple.conversion import *\n",
    "from fpga_nn_backend.utils import *"
   ]
  },
  {
   "cell_type": "code",
   "execution_count": 2,
   "id": "467669b7",
   "metadata": {},
   "outputs": [
    {
     "name": "stdout",
     "output_type": "stream",
     "text": [
      "PyTorch Version: 1.10.0\n",
      "Torchvision Version: 0.11.1\n",
      "WARNING: Could not find GPU! Using CPU only\n"
     ]
    }
   ],
   "source": [
    "print(\"PyTorch Version:\", torch.__version__)\n",
    "print(\"Torchvision Version:\", torchvision.__version__)\n",
    "# Detect if we have a GPU available\n",
    "device = torch.device(\"cuda\" if torch.cuda.is_available() else \"cpu\")\n",
    "if torch.cuda.is_available():\n",
    "    print(\"Using the GPU!\")\n",
    "else:\n",
    "    print(\"WARNING: Could not find GPU! Using CPU only\")"
   ]
  },
  {
   "cell_type": "code",
   "execution_count": 3,
   "id": "3ebc2217",
   "metadata": {},
   "outputs": [],
   "source": [
    "data_dir = get_rel_pkg_path(\"dataset/\")\n",
    "weights_dir = get_rel_pkg_path(\"weights/\")\n",
    "session_dir = get_rel_pkg_path(\"sessions/\")\n",
    "models_dir = get_rel_pkg_path(\"models/\")"
   ]
  },
  {
   "cell_type": "code",
   "execution_count": 4,
   "id": "2143ab9e",
   "metadata": {},
   "outputs": [],
   "source": [
    "dataset_type = ImageDatasetType.MNIST"
   ]
  },
  {
   "cell_type": "code",
   "execution_count": 5,
   "id": "98bc6d0e",
   "metadata": {},
   "outputs": [],
   "source": [
    "orig_datasets = get_img_dataset(data_dir, dataset_type)"
   ]
  },
  {
   "cell_type": "code",
   "execution_count": 6,
   "id": "f6501354",
   "metadata": {},
   "outputs": [],
   "source": [
    "datasets = apply_img_transforms(orig_datasets, dataset_type, flatten=True)"
   ]
  },
  {
   "cell_type": "code",
   "execution_count": 7,
   "id": "b031d325",
   "metadata": {},
   "outputs": [],
   "source": [
    "dataloaders = get_dataloaders(datasets, 128, 128, num_workers=0)"
   ]
  },
  {
   "cell_type": "code",
   "execution_count": 8,
   "id": "c0769d0f",
   "metadata": {},
   "outputs": [],
   "source": [
    "input_dim = IMG_DATASET_TO_IMG_SIZE_FLAT[dataset_type]\n",
    "num_classes = IMG_DATASET_TO_NUM_CLASSES[dataset_type]\n",
    "\n",
    "model = ReLUToyModel(input_dim, num_classes, layer_dims=[256, 128, 64, 32])\n",
    "model = model.to(device)"
   ]
  },
  {
   "cell_type": "code",
   "execution_count": 9,
   "id": "197f117e",
   "metadata": {},
   "outputs": [],
   "source": [
    "model = QuantWrapper(model)"
   ]
  },
  {
   "cell_type": "code",
   "execution_count": 10,
   "id": "2d09605a",
   "metadata": {},
   "outputs": [
    {
     "name": "stdout",
     "output_type": "stream",
     "text": [
      "----------------------------------------------------------------\n",
      "        Layer (type)               Output Shape         Param #\n",
      "================================================================\n",
      "         QuantStub-1                  [-1, 784]               0\n",
      "            Linear-2                  [-1, 256]         200,704\n",
      "              ReLU-3                  [-1, 256]               0\n",
      "            Linear-4                  [-1, 128]          32,768\n",
      "              ReLU-5                  [-1, 128]               0\n",
      "            Linear-6                   [-1, 64]           8,192\n",
      "              ReLU-7                   [-1, 64]               0\n",
      "            Linear-8                   [-1, 32]           2,048\n",
      "              ReLU-9                   [-1, 32]               0\n",
      "           Linear-10                   [-1, 10]             320\n",
      "     ReLUToyModel-11                   [-1, 10]               0\n",
      "      DeQuantStub-12                   [-1, 10]               0\n",
      "================================================================\n",
      "Total params: 244,032\n",
      "Trainable params: 244,032\n",
      "Non-trainable params: 0\n",
      "----------------------------------------------------------------\n",
      "Input size (MB): 0.00\n",
      "Forward/backward pass size (MB): 0.01\n",
      "Params size (MB): 0.93\n",
      "Estimated Total Size (MB): 0.95\n",
      "----------------------------------------------------------------\n"
     ]
    }
   ],
   "source": [
    "summary(model, (input_dim,))"
   ]
  },
  {
   "cell_type": "code",
   "execution_count": 11,
   "id": "c5f2857c",
   "metadata": {},
   "outputs": [],
   "source": [
    "# model.load_state_dict(torch.load(os.path.join(weights_dir, r\"Experiment 11-18-2021 11-04-36 PM\\Weights Best.pckl\")))"
   ]
  },
  {
   "cell_type": "code",
   "execution_count": 12,
   "id": "88a69c54",
   "metadata": {},
   "outputs": [],
   "source": [
    "# model.load_state_dict(torch.load(os.path.join(weights_dir, r\"Experiment 11-20-2021 06-39-40 PM\\Weights Best.pckl\")))"
   ]
  },
  {
   "cell_type": "code",
   "execution_count": 13,
   "id": "bb6f35ad",
   "metadata": {},
   "outputs": [
    {
     "data": {
      "text/plain": [
       "<All keys matched successfully>"
      ]
     },
     "execution_count": 13,
     "metadata": {},
     "output_type": "execute_result"
    }
   ],
   "source": [
    "model.load_state_dict(torch.load(os.path.join(weights_dir, r\"Experiment 11-23-2021 02-52-17 PM\\Weights Best.pckl\")))"
   ]
  },
  {
   "cell_type": "code",
   "execution_count": 14,
   "id": "20dacd8e",
   "metadata": {},
   "outputs": [],
   "source": [
    "criterion = get_loss()\n",
    "criterion = criterion.to(device)"
   ]
  },
  {
   "cell_type": "code",
   "execution_count": 15,
   "id": "8d0be415",
   "metadata": {},
   "outputs": [
    {
     "name": "stderr",
     "output_type": "stream",
     "text": [
      "C:\\Users\\Shahir\\anaconda3\\envs\\py3-dl\\lib\\site-packages\\torch\\ao\\quantization\\observer.py:172: UserWarning: Please use quant_min and quant_max to specify the range for observers.                     reduce_range will be deprecated in a future release of PyTorch.\n",
      "  warnings.warn(\n",
      "100%|██████████████████████████████████████████████████████████████████████████████████| 79/79 [00:03<00:00, 22.40it/s]\n",
      "C:\\Users\\Shahir\\anaconda3\\envs\\py3-dl\\lib\\site-packages\\torch\\ao\\quantization\\observer.py:886: UserWarning: __floordiv__ is deprecated, and its behavior will change in a future version of pytorch. It currently rounds toward 0 (like the 'trunc' function NOT 'floor'). This results in incorrect rounding for negative values. To keep the current behavior, use torch.div(a, b, rounding_mode='trunc'), or for actual floor division, use torch.div(a, b, rounding_mode='floor').\n",
      "  src_bin_begin // dst_bin_width, 0, self.dst_nbins - 1\n",
      "C:\\Users\\Shahir\\anaconda3\\envs\\py3-dl\\lib\\site-packages\\torch\\ao\\quantization\\observer.py:891: UserWarning: __floordiv__ is deprecated, and its behavior will change in a future version of pytorch. It currently rounds toward 0 (like the 'trunc' function NOT 'floor'). This results in incorrect rounding for negative values. To keep the current behavior, use torch.div(a, b, rounding_mode='trunc'), or for actual floor division, use torch.div(a, b, rounding_mode='floor').\n",
      "  src_bin_end // dst_bin_width, 0, self.dst_nbins - 1\n"
     ]
    }
   ],
   "source": [
    "model.eval()\n",
    "model.qconfig = torch.quantization.get_default_qconfig('fbgemm')\n",
    "#torch.quantization.fuse_modules(model.model.layers, [['0', '1'], ['2', '3'], ['4', '5'], ['6', '7']], inplace=True)\n",
    "model = torch.quantization.prepare(model)\n",
    "stats = get_dataloader_stats(dataloaders['test'], model, criterion, device)\n",
    "model_int8 = torch.quantization.convert(model)"
   ]
  },
  {
   "cell_type": "code",
   "execution_count": 16,
   "id": "c01a60c7",
   "metadata": {},
   "outputs": [
    {
     "name": "stdout",
     "output_type": "stream",
     "text": [
      "Accuracy: 0.9259\n"
     ]
    }
   ],
   "source": [
    "print(\"Accuracy:\", stats['acc'])"
   ]
  },
  {
   "cell_type": "code",
   "execution_count": 17,
   "id": "d6ea8f26",
   "metadata": {},
   "outputs": [
    {
     "data": {
      "text/plain": [
       "QuantWrapper(\n",
       "  (model): ReLUToyModel(\n",
       "    (layers): Sequential(\n",
       "      (0): QuantizedLinear(in_features=784, out_features=256, scale=0.050842445343732834, zero_point=57, qscheme=torch.per_channel_affine)\n",
       "      (1): ReLU(inplace=True)\n",
       "      (2): QuantizedLinear(in_features=256, out_features=128, scale=0.06895451247692108, zero_point=27, qscheme=torch.per_channel_affine)\n",
       "      (3): ReLU(inplace=True)\n",
       "      (4): QuantizedLinear(in_features=128, out_features=64, scale=0.10227379202842712, zero_point=27, qscheme=torch.per_channel_affine)\n",
       "      (5): ReLU(inplace=True)\n",
       "      (6): QuantizedLinear(in_features=64, out_features=32, scale=0.17031508684158325, zero_point=33, qscheme=torch.per_channel_affine)\n",
       "      (7): ReLU(inplace=True)\n",
       "      (8): QuantizedLinear(in_features=32, out_features=10, scale=0.40706461668014526, zero_point=64, qscheme=torch.per_channel_affine)\n",
       "    )\n",
       "  )\n",
       "  (quant): Quantize(scale=tensor([0.0079]), zero_point=tensor([0]), dtype=torch.quint8)\n",
       "  (dequant): DeQuantize()\n",
       ")"
      ]
     },
     "execution_count": 17,
     "metadata": {},
     "output_type": "execute_result"
    }
   ],
   "source": [
    "model_int8"
   ]
  },
  {
   "cell_type": "code",
   "execution_count": 18,
   "id": "ca02df67",
   "metadata": {},
   "outputs": [
    {
     "data": {
      "text/plain": [
       "tensor([[ 24, -36,  55,  ..., -34, -51,  18],\n",
       "        [ 66, -58,  62,  ...,   5, -62, -66],\n",
       "        [ 60, -87,  -6,  ...,  66,  17, -56],\n",
       "        ...,\n",
       "        [-41, -13,  41,  ...,  39,  57, -25],\n",
       "        [-32,  66, -31,  ..., -48,   5,  49],\n",
       "        [ 57, -51,  -4,  ..., -30, -18,  -3]], dtype=torch.int8)"
      ]
     },
     "execution_count": 18,
     "metadata": {},
     "output_type": "execute_result"
    }
   ],
   "source": [
    "model_int8.model.layers[0].weight().int_repr()"
   ]
  },
  {
   "cell_type": "code",
   "execution_count": 19,
   "id": "9c92e61e",
   "metadata": {},
   "outputs": [],
   "source": [
    "model_int8.model.layers[8].bias()"
   ]
  },
  {
   "cell_type": "code",
   "execution_count": 20,
   "id": "7c0926ad",
   "metadata": {},
   "outputs": [
    {
     "name": "stderr",
     "output_type": "stream",
     "text": [
      "100%|██████████████████████████████████████████████████████████████████████████████████| 79/79 [00:02<00:00, 30.11it/s]\n"
     ]
    }
   ],
   "source": [
    "stats = get_dataloader_stats(dataloaders['test'], model_int8, criterion, device)"
   ]
  },
  {
   "cell_type": "code",
   "execution_count": 21,
   "id": "f595a7ad",
   "metadata": {},
   "outputs": [
    {
     "name": "stdout",
     "output_type": "stream",
     "text": [
      "Accuracy: 0.924\n"
     ]
    }
   ],
   "source": [
    "print(\"Accuracy:\", stats['acc'])"
   ]
  },
  {
   "cell_type": "code",
   "execution_count": 22,
   "id": "d6b47e3c",
   "metadata": {},
   "outputs": [],
   "source": [
    "def safe_get_param(param):\n",
    "    if param is not None:\n",
    "        return param.int_repr().numpy()\n",
    "    else:\n",
    "        return None"
   ]
  },
  {
   "cell_type": "code",
   "execution_count": 23,
   "id": "e5dbd6a2",
   "metadata": {},
   "outputs": [],
   "source": [
    "converted_nn = ConvertedNN((1, 28, 28))\n",
    "\n",
    "converted_nn.add_flatten_layer((1, 28, 28), 0, 0)\n",
    "\n",
    "converted_nn.add_dense_layer((784,), (256,), 0, 0,\n",
    "    weight=safe_get_param(model_int8.model.layers[0].weight()),\n",
    "    bias=safe_get_param(model_int8.model.layers[0].bias()))\n",
    "converted_nn.add_relu_layer((256,), 0, 0)\n",
    "\n",
    "converted_nn.add_dense_layer((256,), (128,), 0, 0,\n",
    "    weight=safe_get_param(model_int8.model.layers[2].weight()),\n",
    "    bias=safe_get_param(model_int8.model.layers[2].bias()))\n",
    "converted_nn.add_relu_layer((128,), 0, 0)\n",
    "\n",
    "converted_nn.add_dense_layer((128,), (64,), 0, 0,\n",
    "    weight=safe_get_param(model_int8.model.layers[4].weight()),\n",
    "    bias=safe_get_param(model_int8.model.layers[4].bias()))\n",
    "converted_nn.add_relu_layer((64,), 0, 0)\n",
    "\n",
    "converted_nn.add_dense_layer((64,), (32,), 0, 0,\n",
    "    weight=safe_get_param(model_int8.model.layers[6].weight()),\n",
    "    bias=safe_get_param(model_int8.model.layers[6].bias()))\n",
    "converted_nn.add_relu_layer((32,), 0, 0)\n",
    "\n",
    "converted_nn.add_dense_layer((32,), (10,), 0, 0,\n",
    "    weight=safe_get_param(model_int8.model.layers[8].weight()),\n",
    "    bias=safe_get_param(model_int8.model.layers[8].bias()))\n",
    "\n",
    "converted_nn.add_output_layer((10,), 0, 0)"
   ]
  },
  {
   "cell_type": "code",
   "execution_count": 24,
   "id": "2fea43ac",
   "metadata": {},
   "outputs": [
    {
     "data": {
      "text/plain": [
       "QuantizedLinear(in_features=32, out_features=10, scale=0.40706461668014526, zero_point=64, qscheme=torch.per_channel_affine)"
      ]
     },
     "execution_count": 24,
     "metadata": {},
     "output_type": "execute_result"
    }
   ],
   "source": [
    "model_int8.model.layers[8]"
   ]
  },
  {
   "cell_type": "code",
   "execution_count": 25,
   "id": "8e1ab99b",
   "metadata": {},
   "outputs": [],
   "source": [
    "converted_nn.finalize()"
   ]
  },
  {
   "cell_type": "code",
   "execution_count": 26,
   "id": "1877a245",
   "metadata": {
    "scrolled": true
   },
   "outputs": [
    {
     "data": {
      "text/plain": [
       "{'layers': [{'layer_type': <ConverterLayerType.FLATTEN: 5>,\n",
       "   'input_shapes': ((1, 28, 28),),\n",
       "   'output_shape': (784,),\n",
       "   'output_size': 784,\n",
       "   'stack_input_indices': (0,),\n",
       "   'stack_output_index': 0,\n",
       "   'parameters': None,\n",
       "   'metadata': None},\n",
       "  {'layer_type': <ConverterLayerType.DENSE: 0>,\n",
       "   'input_shapes': ((784,),),\n",
       "   'output_shape': (256,),\n",
       "   'output_size': 256,\n",
       "   'stack_input_indices': (0,),\n",
       "   'stack_output_index': 0,\n",
       "   'parameters': {'weight': 0},\n",
       "   'metadata': {'has_bias': False}},\n",
       "  {'layer_type': <ConverterLayerType.RELU: 2>,\n",
       "   'input_shapes': ((256,),),\n",
       "   'output_shape': (256,),\n",
       "   'output_size': 256,\n",
       "   'stack_input_indices': (0,),\n",
       "   'stack_output_index': 0,\n",
       "   'parameters': None,\n",
       "   'metadata': None},\n",
       "  {'layer_type': <ConverterLayerType.DENSE: 0>,\n",
       "   'input_shapes': ((256,),),\n",
       "   'output_shape': (128,),\n",
       "   'output_size': 128,\n",
       "   'stack_input_indices': (0,),\n",
       "   'stack_output_index': 0,\n",
       "   'parameters': {'weight': 0},\n",
       "   'metadata': {'has_bias': False}},\n",
       "  {'layer_type': <ConverterLayerType.RELU: 2>,\n",
       "   'input_shapes': ((128,),),\n",
       "   'output_shape': (128,),\n",
       "   'output_size': 128,\n",
       "   'stack_input_indices': (0,),\n",
       "   'stack_output_index': 0,\n",
       "   'parameters': None,\n",
       "   'metadata': None},\n",
       "  {'layer_type': <ConverterLayerType.DENSE: 0>,\n",
       "   'input_shapes': ((128,),),\n",
       "   'output_shape': (64,),\n",
       "   'output_size': 64,\n",
       "   'stack_input_indices': (0,),\n",
       "   'stack_output_index': 0,\n",
       "   'parameters': {'weight': 0},\n",
       "   'metadata': {'has_bias': False}},\n",
       "  {'layer_type': <ConverterLayerType.RELU: 2>,\n",
       "   'input_shapes': ((64,),),\n",
       "   'output_shape': (64,),\n",
       "   'output_size': 64,\n",
       "   'stack_input_indices': (0,),\n",
       "   'stack_output_index': 0,\n",
       "   'parameters': None,\n",
       "   'metadata': None},\n",
       "  {'layer_type': <ConverterLayerType.DENSE: 0>,\n",
       "   'input_shapes': ((64,),),\n",
       "   'output_shape': (32,),\n",
       "   'output_size': 32,\n",
       "   'stack_input_indices': (0,),\n",
       "   'stack_output_index': 0,\n",
       "   'parameters': {'weight': 0},\n",
       "   'metadata': {'has_bias': False}},\n",
       "  {'layer_type': <ConverterLayerType.RELU: 2>,\n",
       "   'input_shapes': ((32,),),\n",
       "   'output_shape': (32,),\n",
       "   'output_size': 32,\n",
       "   'stack_input_indices': (0,),\n",
       "   'stack_output_index': 0,\n",
       "   'parameters': None,\n",
       "   'metadata': None},\n",
       "  {'layer_type': <ConverterLayerType.DENSE: 0>,\n",
       "   'input_shapes': ((32,),),\n",
       "   'output_shape': (10,),\n",
       "   'output_size': 10,\n",
       "   'stack_input_indices': (0,),\n",
       "   'stack_output_index': 0,\n",
       "   'parameters': {'weight': 0},\n",
       "   'metadata': {'has_bias': False}},\n",
       "  {'layer_type': <ConverterLayerType.OUTPUT: 7>,\n",
       "   'input_shapes': ((10,),),\n",
       "   'output_shape': (10,),\n",
       "   'output_size': 10,\n",
       "   'stack_input_indices': (0,),\n",
       "   'stack_output_index': 0,\n",
       "   'parameters': None,\n",
       "   'metadata': None}]}"
      ]
     },
     "execution_count": 26,
     "metadata": {},
     "output_type": "execute_result"
    }
   ],
   "source": [
    "converted_nn.get_layer_info()"
   ]
  },
  {
   "cell_type": "code",
   "execution_count": 27,
   "id": "f24c45d4",
   "metadata": {},
   "outputs": [],
   "source": [
    "with open(\"test.coe\", 'w') as f:\n",
    "    f.write(converted_nn.generate_parameter_coe())"
   ]
  },
  {
   "cell_type": "code",
   "execution_count": 28,
   "id": "7e32910f",
   "metadata": {},
   "outputs": [],
   "source": [
    "emulator = FPGAEmulator(converted_nn, bram_reserved_size=303000)"
   ]
  },
  {
   "cell_type": "code",
   "execution_count": 29,
   "id": "530cab97",
   "metadata": {
    "scrolled": true
   },
   "outputs": [
    {
     "data": {
      "text/plain": [
       "{'input_shape': (1, 28, 28),\n",
       " 'inital_input_addr': 0,\n",
       " 'layers': [{'layer_type': <LayerType.DENSE: 0>,\n",
       "   'config': {'has_bias': None,\n",
       "    'input_base_addr': 0,\n",
       "    'weight_base_addr': 0,\n",
       "    'bias_base_addr': 0,\n",
       "    'output_base_addr': 784,\n",
       "    'm_size': 256,\n",
       "    'chw_size': 784}},\n",
       "  {'layer_type': <LayerType.MOVE: 5>,\n",
       "   'config': {'input_base_addr': 784, 'output_base_addr': 0, 'n_size': 256}},\n",
       "  {'layer_type': <LayerType.RELU: 2>,\n",
       "   'config': {'input_base_addr': 0, 'output_base_addr': 0, 'n_size': 256}},\n",
       "  {'layer_type': <LayerType.DENSE: 0>,\n",
       "   'config': {'has_bias': None,\n",
       "    'input_base_addr': 0,\n",
       "    'weight_base_addr': 0,\n",
       "    'bias_base_addr': 0,\n",
       "    'output_base_addr': 256,\n",
       "    'm_size': 128,\n",
       "    'chw_size': 256}},\n",
       "  {'layer_type': <LayerType.MOVE: 5>,\n",
       "   'config': {'input_base_addr': 256, 'output_base_addr': 0, 'n_size': 128}},\n",
       "  {'layer_type': <LayerType.RELU: 2>,\n",
       "   'config': {'input_base_addr': 0, 'output_base_addr': 0, 'n_size': 128}},\n",
       "  {'layer_type': <LayerType.DENSE: 0>,\n",
       "   'config': {'has_bias': None,\n",
       "    'input_base_addr': 0,\n",
       "    'weight_base_addr': 0,\n",
       "    'bias_base_addr': 0,\n",
       "    'output_base_addr': 128,\n",
       "    'm_size': 64,\n",
       "    'chw_size': 128}},\n",
       "  {'layer_type': <LayerType.MOVE: 5>,\n",
       "   'config': {'input_base_addr': 128, 'output_base_addr': 0, 'n_size': 64}},\n",
       "  {'layer_type': <LayerType.RELU: 2>,\n",
       "   'config': {'input_base_addr': 0, 'output_base_addr': 0, 'n_size': 64}},\n",
       "  {'layer_type': <LayerType.DENSE: 0>,\n",
       "   'config': {'has_bias': None,\n",
       "    'input_base_addr': 0,\n",
       "    'weight_base_addr': 0,\n",
       "    'bias_base_addr': 0,\n",
       "    'output_base_addr': 64,\n",
       "    'm_size': 32,\n",
       "    'chw_size': 64}},\n",
       "  {'layer_type': <LayerType.MOVE: 5>,\n",
       "   'config': {'input_base_addr': 64, 'output_base_addr': 0, 'n_size': 32}},\n",
       "  {'layer_type': <LayerType.RELU: 2>,\n",
       "   'config': {'input_base_addr': 0, 'output_base_addr': 0, 'n_size': 32}},\n",
       "  {'layer_type': <LayerType.DENSE: 0>,\n",
       "   'config': {'has_bias': None,\n",
       "    'input_base_addr': 0,\n",
       "    'weight_base_addr': 0,\n",
       "    'bias_base_addr': 0,\n",
       "    'output_base_addr': 32,\n",
       "    'm_size': 10,\n",
       "    'chw_size': 32}},\n",
       "  {'layer_type': <LayerType.MOVE: 5>,\n",
       "   'config': {'input_base_addr': 32, 'output_base_addr': 0, 'n_size': 10}},\n",
       "  {'layer_type': <LayerType.OUTPUT: 6>,\n",
       "   'config': {'output_base_addr': 0, 'n_size': 10}}]}"
      ]
     },
     "execution_count": 29,
     "metadata": {},
     "output_type": "execute_result"
    }
   ],
   "source": [
    "emulator.exec_info"
   ]
  },
  {
   "cell_type": "code",
   "execution_count": 30,
   "id": "1a5fdd56",
   "metadata": {
    "scrolled": true
   },
   "outputs": [
    {
     "name": "stdout",
     "output_type": "stream",
     "text": [
      "[  0   0   0   0   0   0   0   0   0   0   0   0   0   0   0   0   0   0\n",
      "   0   0   0   0   0   0   0   0   0   0   0   0   0   0   0   0   0   0\n",
      "   0   0   0   0   0   0   0   0   0   0   0   0   0   0   0   0   0   0\n",
      "   0   0   0   0   0   0   0   0   0   0   0   0   0   0   0   0   0   0\n",
      "   0   0   0   0   0   0   0   0   0   0   0   0   0   0   0   0   0   0\n",
      "   0   0   0   0   0   0   0   0   0   0   0   0   0   0   0   0   0   0\n",
      "   0   0   0   0   0   0   0   0   0   0   0   0   0   0   0   0   0   0\n",
      "   0   0   0   0   0   0   0   0   0   0   0   0   0   0   0   0   0   0\n",
      "   0   0   0   0   0   0   0   0   0   0   0   0   0   0   0   0   0   0\n",
      "   0   0   0   0   0   0   0   0   0   0   0   0   0   0   0   0   0   0\n",
      "   0   0   0   0   0   0   0   0   0   0   0   0   0   0   0   0   0   0\n",
      "   0   0   0   0  42  92  79  75  30  18   0   0   0   0   0   0   0   0\n",
      "   0   0   0   0   0   0   0   0   0   0   0   0   0   0 111 127 127 127\n",
      " 127 120  99  99  99  99  99  99  99  99  85  26   0   0   0   0   0   0\n",
      "   0   0   0   0   0   0  33  57  36  57  81 113 127 112 127 127 127 125\n",
      " 114 127 127  70   0   0   0   0   0   0   0   0   0   0   0   0   0   0\n",
      "   0   0   0   8  33   7  33  33  33  29  10 118 127  53   0   0   0   0\n",
      "   0   0   0   0   0   0   0   0   0   0   0   0   0   0   0   0   0   0\n",
      "   0   0  41 126 104   9   0   0   0   0   0   0   0   0   0   0   0   0\n",
      "   0   0   0   0   0   0   0   0   0   0   0  11 116 127  41   0   0   0\n",
      "   0   0   0   0   0   0   0   0   0   0   0   0   0   0   0   0   0   0\n",
      "   0   0   0  64 127 119  22   0   0   0   0   0   0   0   0   0   0   0\n",
      "   0   0   0   0   0   0   0   0   0   0   0   0  29 124 127  31   0   0\n",
      "   0   0   0   0   0   0   0   0   0   0   0   0   0   0   0   0   0   0\n",
      "   0   0   0   0  66 127  93   2   0   0   0   0   0   0   0   0   0   0\n",
      "   0   0   0   0   0   0   0   0   0   0   0   0   0   4 102 124  29   0\n",
      "   0   0   0   0   0   0   0   0   0   0   0   0   0   0   0   0   0   0\n",
      "   0   0   0   0   0  63 127  91   0   0   0   0   0   0   0   0   0   0\n",
      "   0   0   0   0   0   0   0   0   0   0   0   0   0   0  37 125 120  28\n",
      "   0   0   0   0   0   0   0   0   0   0   0   0   0   0   0   0   0   0\n",
      "   0   0   0   0   0   9 110 127  83   0   0   0   0   0   0   0   0   0\n",
      "   0   0   0   0   0   0   0   0   0   0   0   0   0   0   1 101 127 109\n",
      "  17   0   0   0   0   0   0   0   0   0   0   0   0   0   0   0   0   0\n",
      "   0   0   0   0   0   0  19 127 127  38   0   0   0   0   0   0   0   0\n",
      "   0   0   0   0   0   0   0   0   0   0   0   0   0   0   0  15 112 127\n",
      "  57   0   0   0   0   0   0   0   0   0   0   0   0   0   0   0   0   0\n",
      "   0   0   0   0   0   0   0  66 127 127  26   0   0   0   0   0   0   0\n",
      "   0   0   0   0   0   0   0   0   0   0   0   0   0   0   0   0  30 121\n",
      " 127 127  26   0   0   0   0   0   0   0   0   0   0   0   0   0   0   0\n",
      "   0   0   0   0   0   0   0   0  60 127 127 109  20   0   0   0   0   0\n",
      "   0   0   0   0   0   0   0   0   0   0   0   0   0   0   0   0   0   0\n",
      "  60 127 103   9   0   0   0   0   0   0   0   0   0   0   0   0   0   0\n",
      "   0   0   0   0   0   0   0   0   0   0   0   0   0   0   0   0   0   0\n",
      "   0   0   0   0   0   0   0   0   0   0]\n"
     ]
    }
   ],
   "source": [
    "for imgs, labels in dataloaders['test']:\n",
    "    break\n",
    "data = (imgs[0] * 255).numpy()\n",
    "data = (data/2).astype(np.int8)\n",
    "print(data)"
   ]
  },
  {
   "cell_type": "code",
   "execution_count": 31,
   "id": "ebb1d875",
   "metadata": {},
   "outputs": [
    {
     "name": "stdout",
     "output_type": "stream",
     "text": [
      "[(256, 784), (128, 256), (64, 128), (32, 64), (10, 32)]\n"
     ]
    }
   ],
   "source": [
    "parameters = converted_nn.parameters_info['parameters']\n",
    "print([p.shape for p in parameters])\n",
    "\n",
    "def dense_no_bias(w, i):\n",
    "    pass\n",
    "\n",
    "def relu(i):\n",
    "    return np.maximum(0, i)"
   ]
  },
  {
   "cell_type": "code",
   "execution_count": 32,
   "id": "b1b5d726",
   "metadata": {},
   "outputs": [],
   "source": [
    "inputs_per_layer = {}\n",
    "outputs_per_layer = {}\n",
    "def get_output(name):\n",
    "    def hook(model, input, output):\n",
    "        inputs_per_layer[name] = input\n",
    "        outputs_per_layer[name] = output.detach()\n",
    "    return hook\n",
    "\n",
    "hooks = {}\n",
    "for name, module in model_int8.named_modules():\n",
    "    hooks[name] = module.register_forward_hook(get_output(name))"
   ]
  },
  {
   "cell_type": "code",
   "execution_count": 33,
   "id": "fdfc7702",
   "metadata": {},
   "outputs": [],
   "source": [
    "batch = imgs[None, 0, :]\n",
    "model_out = model_int8(batch)"
   ]
  },
  {
   "cell_type": "code",
   "execution_count": 34,
   "id": "37899760",
   "metadata": {},
   "outputs": [
    {
     "data": {
      "text/plain": [
       "dict_keys(['quant', 'model.layers.0', 'model.layers.1', 'model.layers.2', 'model.layers.3', 'model.layers.4', 'model.layers.5', 'model.layers.6', 'model.layers.7', 'model.layers.8', 'model.layers', 'model', 'dequant', ''])"
      ]
     },
     "execution_count": 34,
     "metadata": {},
     "output_type": "execute_result"
    }
   ],
   "source": [
    "outputs_per_layer.keys()"
   ]
  },
  {
   "cell_type": "code",
   "execution_count": 35,
   "id": "421813a2",
   "metadata": {},
   "outputs": [
    {
     "data": {
      "text/plain": [
       "array([[  0,   0,   0,   0,   0,   0,   0,   0,   0,   0,   0,   0,   0,\n",
       "          0,   0,   0,   0,   0,   0,   0,   0,   0,   0,   0,   0,   0,\n",
       "          0,   0,   0,   0,   0,   0,   0,   0,   0,   0,   0,   0,   0,\n",
       "          0,   0,   0,   0,   0,   0,   0,   0,   0,   0,   0,   0,   0,\n",
       "          0,   0,   0,   0,   0,   0,   0,   0,   0,   0,   0,   0,   0,\n",
       "          0,   0,   0,   0,   0,   0,   0,   0,   0,   0,   0,   0,   0,\n",
       "          0,   0,   0,   0,   0,   0,   0,   0,   0,   0,   0,   0,   0,\n",
       "          0,   0,   0,   0,   0,   0,   0,   0,   0,   0,   0,   0,   0,\n",
       "          0,   0,   0,   0,   0,   0,   0,   0,   0,   0,   0,   0,   0,\n",
       "          0,   0,   0,   0,   0,   0,   0,   0,   0,   0,   0,   0,   0,\n",
       "          0,   0,   0,   0,   0,   0,   0,   0,   0,   0,   0,   0,   0,\n",
       "          0,   0,   0,   0,   0,   0,   0,   0,   0,   0,   0,   0,   0,\n",
       "          0,   0,   0,   0,   0,   0,   0,   0,   0,   0,   0,   0,   0,\n",
       "          0,   0,   0,   0,   0,   0,   0,   0,   0,   0,   0,   0,   0,\n",
       "          0,   0,   0,   0,   0,   0,   0,   0,   0,   0,   0,   0,   0,\n",
       "          0,   0,   0,   0,   0,   0,   0,  42,  92,  79,  75,  30,  18,\n",
       "          0,   0,   0,   0,   0,   0,   0,   0,   0,   0,   0,   0,   0,\n",
       "          0,   0,   0,   0,   0,   0,   0,   0,   0, 111, 127, 127, 127,\n",
       "        127, 120,  99,  99,  99,  99,  99,  99,  99,  99,  85,  26,   0,\n",
       "          0,   0,   0,   0,   0,   0,   0,   0,   0,   0,   0,  33,  57,\n",
       "         36,  57,  81, 113, 127, 112, 127, 127, 127, 125, 114, 127, 127,\n",
       "         70,   0,   0,   0,   0,   0,   0,   0,   0,   0,   0,   0,   0,\n",
       "          0,   0,   0,   0,   0,   8,  33,   7,  33,  33,  33,  29,  10,\n",
       "        118, 127,  53,   0,   0,   0,   0,   0,   0,   0,   0,   0,   0,\n",
       "          0,   0,   0,   0,   0,   0,   0,   0,   0,   0,   0,   0,   0,\n",
       "          0,  41, 126, 104,   9,   0,   0,   0,   0,   0,   0,   0,   0,\n",
       "          0,   0,   0,   0,   0,   0,   0,   0,   0,   0,   0,   0,   0,\n",
       "          0,   0,  11, 116, 127,  41,   0,   0,   0,   0,   0,   0,   0,\n",
       "          0,   0,   0,   0,   0,   0,   0,   0,   0,   0,   0,   0,   0,\n",
       "          0,   0,   0,   0,  64, 127, 119,  22,   0,   0,   0,   0,   0,\n",
       "          0,   0,   0,   0,   0,   0,   0,   0,   0,   0,   0,   0,   0,\n",
       "          0,   0,   0,   0,   0,  29, 124, 127,  31,   0,   0,   0,   0,\n",
       "          0,   0,   0,   0,   0,   0,   0,   0,   0,   0,   0,   0,   0,\n",
       "          0,   0,   0,   0,   0,   0,   0,  66, 127,  93,   2,   0,   0,\n",
       "          0,   0,   0,   0,   0,   0,   0,   0,   0,   0,   0,   0,   0,\n",
       "          0,   0,   0,   0,   0,   0,   0,   0,   4, 102, 124,  29,   0,\n",
       "          0,   0,   0,   0,   0,   0,   0,   0,   0,   0,   0,   0,   0,\n",
       "          0,   0,   0,   0,   0,   0,   0,   0,   0,   0,  63, 127,  91,\n",
       "          0,   0,   0,   0,   0,   0,   0,   0,   0,   0,   0,   0,   0,\n",
       "          0,   0,   0,   0,   0,   0,   0,   0,   0,   0,   0,  37, 125,\n",
       "        120,  28,   0,   0,   0,   0,   0,   0,   0,   0,   0,   0,   0,\n",
       "          0,   0,   0,   0,   0,   0,   0,   0,   0,   0,   0,   0,   9,\n",
       "        110, 127,  83,   0,   0,   0,   0,   0,   0,   0,   0,   0,   0,\n",
       "          0,   0,   0,   0,   0,   0,   0,   0,   0,   0,   0,   0,   0,\n",
       "          1, 101, 127, 109,  17,   0,   0,   0,   0,   0,   0,   0,   0,\n",
       "          0,   0,   0,   0,   0,   0,   0,   0,   0,   0,   0,   0,   0,\n",
       "          0,   0,  19, 127, 127,  38,   0,   0,   0,   0,   0,   0,   0,\n",
       "          0,   0,   0,   0,   0,   0,   0,   0,   0,   0,   0,   0,   0,\n",
       "          0,   0,   0,  15, 112, 127,  57,   0,   0,   0,   0,   0,   0,\n",
       "          0,   0,   0,   0,   0,   0,   0,   0,   0,   0,   0,   0,   0,\n",
       "          0,   0,   0,   0,   0,  66, 127, 127,  26,   0,   0,   0,   0,\n",
       "          0,   0,   0,   0,   0,   0,   0,   0,   0,   0,   0,   0,   0,\n",
       "          0,   0,   0,   0,   0,   0,  30, 121, 127, 127,  26,   0,   0,\n",
       "          0,   0,   0,   0,   0,   0,   0,   0,   0,   0,   0,   0,   0,\n",
       "          0,   0,   0,   0,   0,   0,   0,   0,  60, 127, 127, 109,  20,\n",
       "          0,   0,   0,   0,   0,   0,   0,   0,   0,   0,   0,   0,   0,\n",
       "          0,   0,   0,   0,   0,   0,   0,   0,   0,   0,  60, 127, 103,\n",
       "          9,   0,   0,   0,   0,   0,   0,   0,   0,   0,   0,   0,   0,\n",
       "          0,   0,   0,   0,   0,   0,   0,   0,   0,   0,   0,   0,   0,\n",
       "          0,   0,   0,   0,   0,   0,   0,   0,   0,   0,   0,   0,   0,\n",
       "          0,   0,   0,   0]], dtype=uint8)"
      ]
     },
     "execution_count": 35,
     "metadata": {},
     "output_type": "execute_result"
    }
   ],
   "source": [
    "inputs_per_layer['model.layers.0'][0].int_repr().numpy()"
   ]
  },
  {
   "cell_type": "code",
   "execution_count": 36,
   "id": "f7fcf805",
   "metadata": {},
   "outputs": [
    {
     "data": {
      "text/plain": [
       "tensor([[57, 65, 57, 57, 59, 67, 65, 72, 57, 71, 58, 57, 64, 68, 58, 57, 62, 58,\n",
       "         57, 57, 62, 63, 57, 79, 57, 73, 60, 63, 57, 57, 62, 57, 58, 57, 73, 57,\n",
       "         57, 57, 57, 57, 80, 71, 77, 70, 65, 71, 57, 57, 57, 57, 73, 73, 57, 57,\n",
       "         62, 64, 61, 61, 71, 57, 75, 66, 57, 58, 59, 58, 57, 57, 58, 57, 61, 57,\n",
       "         77, 58, 59, 70, 67, 58, 62, 57, 61, 72, 57, 72, 68, 58, 68, 64, 63, 65,\n",
       "         64, 79, 57, 57, 67, 57, 64, 57, 77, 66, 62, 74, 57, 66, 58, 66, 57, 70,\n",
       "         59, 69, 57, 74, 78, 71, 58, 57, 75, 61, 57, 57, 57, 65, 62, 76, 59, 58,\n",
       "         62, 59, 67, 72, 57, 57, 71, 67, 58, 63, 76, 62, 60, 61, 57, 59, 60, 57,\n",
       "         63, 65, 74, 64, 75, 57, 63, 60, 57, 67, 58, 61, 63, 70, 58, 75, 57, 68,\n",
       "         60, 58, 66, 57, 75, 57, 57, 61, 62, 57, 63, 61, 59, 57, 57, 58, 57, 72,\n",
       "         61, 57, 57, 59, 72, 67, 59, 59, 57, 57, 65, 74, 65, 62, 57, 67, 60, 57,\n",
       "         60, 57, 57, 58, 57, 57, 72, 57, 68, 57, 65, 63, 63, 59, 65, 57, 57, 60,\n",
       "         57, 73, 57, 57, 58, 57, 82, 61, 68, 67, 57, 79, 57, 58, 57, 57, 60, 71,\n",
       "         76, 68, 57, 60, 66, 57, 79, 69, 59, 68, 57, 59, 57, 57, 57, 64, 62, 57,\n",
       "         57, 61, 58, 57]], dtype=torch.uint8)"
      ]
     },
     "execution_count": 36,
     "metadata": {},
     "output_type": "execute_result"
    }
   ],
   "source": [
    "outputs_per_layer['model.layers.0'].int_repr()"
   ]
  },
  {
   "cell_type": "code",
   "execution_count": 37,
   "id": "d4227246",
   "metadata": {},
   "outputs": [
    {
     "data": {
      "text/plain": [
       "tensor([[70, 52, 62, 75, 48, 68, 41, 90, 64, 75]], dtype=torch.uint8)"
      ]
     },
     "execution_count": 37,
     "metadata": {},
     "output_type": "execute_result"
    }
   ],
   "source": [
    "outputs_per_layer['model.layers.8'].int_repr()"
   ]
  },
  {
   "cell_type": "code",
   "execution_count": 38,
   "id": "a44a90cf",
   "metadata": {},
   "outputs": [
    {
     "data": {
      "text/plain": [
       "QuantizedLinear(in_features=784, out_features=256, scale=0.050842445343732834, zero_point=57, qscheme=torch.per_channel_affine)"
      ]
     },
     "execution_count": 38,
     "metadata": {},
     "output_type": "execute_result"
    }
   ],
   "source": [
    "model_int8.model.layers[0]"
   ]
  },
  {
   "cell_type": "code",
   "execution_count": 39,
   "id": "323c5fe3",
   "metadata": {},
   "outputs": [
    {
     "data": {
      "text/plain": [
       "array([  0,   0,   0,   0,   0,   0,   0,   0,   0,   0,   0,   0,   0,\n",
       "         0,   0,   0,   0,   0,   0,   0,   0,   0,   0,   0,   0,   0,\n",
       "         0,   0,   0,   0,   0,   0,   0,   0,   0,   0,   0,   0,   0,\n",
       "         0,   0,   0,   0,   0,   0,   0,   0,   0,   0,   0,   0,   0,\n",
       "         0,   0,   0,   0,   0,   0,   0,   0,   0,   0,   0,   0,   0,\n",
       "         0,   0,   0,   0,   0,   0,   0,   0,   0,   0,   0,   0,   0,\n",
       "         0,   0,   0,   0,   0,   0,   0,   0,   0,   0,   0,   0,   0,\n",
       "         0,   0,   0,   0,   0,   0,   0,   0,   0,   0,   0,   0,   0,\n",
       "         0,   0,   0,   0,   0,   0,   0,   0,   0,   0,   0,   0,   0,\n",
       "         0,   0,   0,   0,   0,   0,   0,   0,   0,   0,   0,   0,   0,\n",
       "         0,   0,   0,   0,   0,   0,   0,   0,   0,   0,   0,   0,   0,\n",
       "         0,   0,   0,   0,   0,   0,   0,   0,   0,   0,   0,   0,   0,\n",
       "         0,   0,   0,   0,   0,   0,   0,   0,   0,   0,   0,   0,   0,\n",
       "         0,   0,   0,   0,   0,   0,   0,   0,   0,   0,   0,   0,   0,\n",
       "         0,   0,   0,   0,   0,   0,   0,   0,   0,   0,   0,   0,   0,\n",
       "         0,   0,   0,   0,   0,   0,   0,  42,  92,  79,  75,  30,  18,\n",
       "         0,   0,   0,   0,   0,   0,   0,   0,   0,   0,   0,   0,   0,\n",
       "         0,   0,   0,   0,   0,   0,   0,   0,   0, 111, 127, 127, 127,\n",
       "       127, 120,  99,  99,  99,  99,  99,  99,  99,  99,  85,  26,   0,\n",
       "         0,   0,   0,   0,   0,   0,   0,   0,   0,   0,   0,  33,  57,\n",
       "        36,  57,  81, 113, 127, 112, 127, 127, 127, 125, 114, 127, 127,\n",
       "        70,   0,   0,   0,   0,   0,   0,   0,   0,   0,   0,   0,   0,\n",
       "         0,   0,   0,   0,   0,   8,  33,   7,  33,  33,  33,  29,  10,\n",
       "       118, 127,  53,   0,   0,   0,   0,   0,   0,   0,   0,   0,   0,\n",
       "         0,   0,   0,   0,   0,   0,   0,   0,   0,   0,   0,   0,   0,\n",
       "         0,  41, 126, 104,   9,   0,   0,   0,   0,   0,   0,   0,   0,\n",
       "         0,   0,   0,   0,   0,   0,   0,   0,   0,   0,   0,   0,   0,\n",
       "         0,   0,  11, 116, 127,  41,   0,   0,   0,   0,   0,   0,   0,\n",
       "         0,   0,   0,   0,   0,   0,   0,   0,   0,   0,   0,   0,   0,\n",
       "         0,   0,   0,   0,  64, 127, 119,  22,   0,   0,   0,   0,   0,\n",
       "         0,   0,   0,   0,   0,   0,   0,   0,   0,   0,   0,   0,   0,\n",
       "         0,   0,   0,   0,   0,  29, 124, 127,  31,   0,   0,   0,   0,\n",
       "         0,   0,   0,   0,   0,   0,   0,   0,   0,   0,   0,   0,   0,\n",
       "         0,   0,   0,   0,   0,   0,   0,  66, 127,  93,   2,   0,   0,\n",
       "         0,   0,   0,   0,   0,   0,   0,   0,   0,   0,   0,   0,   0,\n",
       "         0,   0,   0,   0,   0,   0,   0,   0,   4, 102, 124,  29,   0,\n",
       "         0,   0,   0,   0,   0,   0,   0,   0,   0,   0,   0,   0,   0,\n",
       "         0,   0,   0,   0,   0,   0,   0,   0,   0,   0,  63, 127,  91,\n",
       "         0,   0,   0,   0,   0,   0,   0,   0,   0,   0,   0,   0,   0,\n",
       "         0,   0,   0,   0,   0,   0,   0,   0,   0,   0,   0,  37, 125,\n",
       "       120,  28,   0,   0,   0,   0,   0,   0,   0,   0,   0,   0,   0,\n",
       "         0,   0,   0,   0,   0,   0,   0,   0,   0,   0,   0,   0,   9,\n",
       "       110, 127,  83,   0,   0,   0,   0,   0,   0,   0,   0,   0,   0,\n",
       "         0,   0,   0,   0,   0,   0,   0,   0,   0,   0,   0,   0,   0,\n",
       "         1, 101, 127, 109,  17,   0,   0,   0,   0,   0,   0,   0,   0,\n",
       "         0,   0,   0,   0,   0,   0,   0,   0,   0,   0,   0,   0,   0,\n",
       "         0,   0,  19, 127, 127,  38,   0,   0,   0,   0,   0,   0,   0,\n",
       "         0,   0,   0,   0,   0,   0,   0,   0,   0,   0,   0,   0,   0,\n",
       "         0,   0,   0,  15, 112, 127,  57,   0,   0,   0,   0,   0,   0,\n",
       "         0,   0,   0,   0,   0,   0,   0,   0,   0,   0,   0,   0,   0,\n",
       "         0,   0,   0,   0,   0,  66, 127, 127,  26,   0,   0,   0,   0,\n",
       "         0,   0,   0,   0,   0,   0,   0,   0,   0,   0,   0,   0,   0,\n",
       "         0,   0,   0,   0,   0,   0,  30, 121, 127, 127,  26,   0,   0,\n",
       "         0,   0,   0,   0,   0,   0,   0,   0,   0,   0,   0,   0,   0,\n",
       "         0,   0,   0,   0,   0,   0,   0,   0,  60, 127, 127, 109,  20,\n",
       "         0,   0,   0,   0,   0,   0,   0,   0,   0,   0,   0,   0,   0,\n",
       "         0,   0,   0,   0,   0,   0,   0,   0,   0,   0,  60, 127, 103,\n",
       "         9,   0,   0,   0,   0,   0,   0,   0,   0,   0,   0,   0,   0,\n",
       "         0,   0,   0,   0,   0,   0,   0,   0,   0,   0,   0,   0,   0,\n",
       "         0,   0,   0,   0,   0,   0,   0,   0,   0,   0,   0,   0,   0,\n",
       "         0,   0,   0,   0], dtype=int8)"
      ]
     },
     "execution_count": 39,
     "metadata": {},
     "output_type": "execute_result"
    }
   ],
   "source": [
    "data"
   ]
  },
  {
   "cell_type": "code",
   "execution_count": 45,
   "id": "e96383b5",
   "metadata": {
    "scrolled": true
   },
   "outputs": [
    {
     "data": {
      "text/plain": [
       "tensor([[ 24, -36,  55,  ..., -34, -51,  18],\n",
       "        [ 66, -58,  62,  ...,   5, -62, -66],\n",
       "        [ 60, -87,  -6,  ...,  66,  17, -56],\n",
       "        ...,\n",
       "        [-41, -13,  41,  ...,  39,  57, -25],\n",
       "        [-32,  66, -31,  ..., -48,   5,  49],\n",
       "        [ 57, -51,  -4,  ..., -30, -18,  -3]], dtype=torch.int8)"
      ]
     },
     "execution_count": 45,
     "metadata": {},
     "output_type": "execute_result"
    }
   ],
   "source": [
    "model_int8.model.layers[0].weight().int_repr()"
   ]
  },
  {
   "cell_type": "code",
   "execution_count": 41,
   "id": "6fb50ff4",
   "metadata": {},
   "outputs": [
    {
     "data": {
      "text/plain": [
       "array([[ 24, -36,  55, ..., -34, -51,  18],\n",
       "       [ 66, -58,  62, ...,   5, -62, -66],\n",
       "       [ 60, -87,  -6, ...,  66,  17, -56],\n",
       "       ...,\n",
       "       [-41, -13,  41, ...,  39,  57, -25],\n",
       "       [-32,  66, -31, ..., -48,   5,  49],\n",
       "       [ 57, -51,  -4, ..., -30, -18,  -3]], dtype=int8)"
      ]
     },
     "execution_count": 41,
     "metadata": {},
     "output_type": "execute_result"
    }
   ],
   "source": [
    "parameters[0]"
   ]
  },
  {
   "cell_type": "code",
   "execution_count": 42,
   "id": "8fbd15ff",
   "metadata": {
    "scrolled": true
   },
   "outputs": [
    {
     "data": {
      "text/plain": [
       "array([  19,  105, -115,  -22,   93,  126,  121,   68, -115,  -82,  -93,\n",
       "         25,   34,  -19,  118,   96,  -87,  -24,  -23,   33,  -21,   33,\n",
       "         73,   62,   95,   -9,   80,   47,  -59,   21,   82,  -82,  -72,\n",
       "         68,   23,   65,  -99,  -37,  -30,   32,   14,  113,   33,  -18,\n",
       "        -33,    7,  -88,  -23,   26,   40,   44,  -21,  102, -110,  109,\n",
       "         64,   39,  109,  -93,  -59,   12,  -21,  -44,  -67, -111,  106,\n",
       "        -85,    3,   85,   10,  -69,  -56,  -95,   98,  119, -122,   90,\n",
       "        -62,  111,  -53, -114,  -68,    2,   30,   51,  114,  103,  110,\n",
       "        -82,  -46,   18,    4,  120,  -36,  -72,   61,   39, -125,  -90,\n",
       "         91,   37,   -2,  -49,  -95,  -87,  -87,  126,    5,    9,   44,\n",
       "         87,   -4,  -26,  107,   42,  -28,  -25,  -12, -103,  -53,  -18,\n",
       "         61,   66,   25,   77,   68,    9,  -65,   63,   84,   54,   20,\n",
       "         97,   98,   -3,  -93,   31, -105,  110,  -99,   -9,   68,   -3,\n",
       "        -93,   37,   56,  -64,  -19, -117, -122,  -68,   79,   55,  -55,\n",
       "        -16,  -37,  -45,   50,    0,   31,   34,  105,  104,    3,  123,\n",
       "       -127,   86, -120, -122,  -14,   50,   37,  -76,   72, -125, -120,\n",
       "        -15, -111,   90,   26, -108,   54,   82,  115,   70,   78,  125,\n",
       "        -40,  -64,   11,  -59,   80,   79,  116,   81,   36,  127,  -49,\n",
       "        -69,   27,   76,   93,   82,  -37,   43,   29,  116,  -58,   73,\n",
       "         22,  -77, -101,   70,  -40,  -49,  114,  -20,   54,   36,   90,\n",
       "        104,   80,  -39,  -90,   53,   85,  101,  -80, -128, -125,  117,\n",
       "         21,  -92,   98,  -76,   67,  -68,  -61,   81,  122, -126,  124,\n",
       "       -118, -104,   42,  -15,  -92,   17,   53,   27,  -97,   12,   42,\n",
       "         -6,   93, -107], dtype=int8)"
      ]
     },
     "execution_count": 42,
     "metadata": {},
     "output_type": "execute_result"
    }
   ],
   "source": [
    "(parameters[0] @ data)"
   ]
  },
  {
   "cell_type": "code",
   "execution_count": null,
   "id": "ca4c42ea",
   "metadata": {},
   "outputs": [],
   "source": []
  },
  {
   "cell_type": "code",
   "execution_count": 43,
   "id": "083a0bb0",
   "metadata": {
    "scrolled": true
   },
   "outputs": [
    {
     "name": "stdout",
     "output_type": "stream",
     "text": [
      "{'has_bias': None, 'input_base_addr': 0, 'weight_base_addr': 0, 'bias_base_addr': 0, 'output_base_addr': 784, 'm_size': 256, 'chw_size': 784}\n"
     ]
    },
    {
     "name": "stderr",
     "output_type": "stream",
     "text": [
      "C:\\Users\\Shahir\\Documents\\Code Repositories\\6111-fpga-final-project\\fpga_nn_backend\\fpga_simple\\emulation.py:176: RuntimeWarning: overflow encountered in byte_scalars\n",
      "  o_out[i] = np.int8(w_in[i] * i_in[i] + b_in[i])\n"
     ]
    },
    {
     "name": "stdout",
     "output_type": "stream",
     "text": [
      "{'input_base_addr': 784, 'output_base_addr': 0, 'n_size': 256}\n",
      "[  19  105 -115  -22   93  126  121   68 -115  -82  -93   25   34  -19\n",
      "  118   96  -87  -24  -23   33  -21   33   73   62   95   -9   80   47\n",
      "  -59   21   82  -82  -72   68   23   65  -99  -37  -30   32   14  113\n",
      "   33  -18  -33    7  -88  -23   26   40   44  -21  102 -110  109   64\n",
      "   39  109  -93  -59   12  -21  -44  -67 -111  106  -85    3   85   10\n",
      "  -69  -56  -95   98  119 -122   90  -62  111  -53 -114  -68    2   30\n",
      "   51  114  103  110  -82  -46   18    4  120  -36  -72   61   39 -125\n",
      "  -90   91   37   -2  -49  -95  -87  -87  126    5    9   44   87   -4\n",
      "  -26  107   42  -28  -25  -12 -103  -53  -18   61   66   25   77   68\n",
      "    9  -65   63   84   54   20   97   98   -3  -93   31 -105  110  -99\n",
      "   -9   68   -3  -93   37   56  -64  -19 -117 -122  -68   79   55  -55\n",
      "  -16  -37  -45   50    0   31   34  105  104    3  123 -127   86 -120\n",
      " -122  -14   50   37  -76   72 -125 -120  -15 -111   90   26 -108   54\n",
      "   82  115   70   78  125  -40  -64   11  -59   80   79  116   81   36\n",
      "  127  -49  -69   27   76   93   82  -37   43   29  116  -58   73   22\n",
      "  -77 -101   70  -40  -49  114  -20   54   36   90  104   80  -39  -90\n",
      "   53   85  101  -80 -128 -125  117   21  -92   98  -76   67  -68  -61\n",
      "   81  122 -126  124 -118 -104   42  -15  -92   17   53   27  -97   12\n",
      "   42   -6   93 -107]\n"
     ]
    },
    {
     "ename": "ValueError",
     "evalue": "",
     "output_type": "error",
     "traceback": [
      "\u001b[1;31m---------------------------------------------------------------------------\u001b[0m",
      "\u001b[1;31mValueError\u001b[0m                                Traceback (most recent call last)",
      "\u001b[1;32m~\\AppData\\Local\\Temp/ipykernel_17448/654389677.py\u001b[0m in \u001b[0;36m<module>\u001b[1;34m\u001b[0m\n\u001b[1;32m----> 1\u001b[1;33m \u001b[0memulator\u001b[0m\u001b[1;33m.\u001b[0m\u001b[0mexecute\u001b[0m\u001b[1;33m(\u001b[0m\u001b[0mdata\u001b[0m\u001b[1;33m)\u001b[0m\u001b[1;33m\u001b[0m\u001b[1;33m\u001b[0m\u001b[0m\n\u001b[0m",
      "\u001b[1;32m~\\Documents\\Code Repositories\\6111-fpga-final-project\\fpga_nn_backend\\fpga_simple\\emulation.py\u001b[0m in \u001b[0;36mexecute\u001b[1;34m(self, input_data)\u001b[0m\n\u001b[0;32m    911\u001b[0m                 \u001b[0moutput_data\u001b[0m \u001b[1;33m=\u001b[0m \u001b[0mnp\u001b[0m\u001b[1;33m.\u001b[0m\u001b[0marray\u001b[0m\u001b[1;33m(\u001b[0m\u001b[0moutput_data\u001b[0m\u001b[1;33m,\u001b[0m \u001b[0mnp\u001b[0m\u001b[1;33m.\u001b[0m\u001b[0mint8\u001b[0m\u001b[1;33m)\u001b[0m\u001b[1;33m\u001b[0m\u001b[1;33m\u001b[0m\u001b[0m\n\u001b[0;32m    912\u001b[0m                 \u001b[0mprint\u001b[0m\u001b[1;33m(\u001b[0m\u001b[0moutput_data\u001b[0m\u001b[1;33m)\u001b[0m\u001b[1;33m\u001b[0m\u001b[1;33m\u001b[0m\u001b[0m\n\u001b[1;32m--> 913\u001b[1;33m                 \u001b[1;32mraise\u001b[0m \u001b[0mValueError\u001b[0m\u001b[1;33m(\u001b[0m\u001b[1;33m)\u001b[0m\u001b[1;33m\u001b[0m\u001b[1;33m\u001b[0m\u001b[0m\n\u001b[0m\u001b[0;32m    914\u001b[0m \u001b[1;33m\u001b[0m\u001b[0m\n\u001b[0;32m    915\u001b[0m             \u001b[0mcycles\u001b[0m \u001b[1;33m+=\u001b[0m \u001b[1;36m1\u001b[0m\u001b[1;33m\u001b[0m\u001b[1;33m\u001b[0m\u001b[0m\n",
      "\u001b[1;31mValueError\u001b[0m: "
     ]
    }
   ],
   "source": [
    "emulator.execute(data)"
   ]
  },
  {
   "cell_type": "code",
   "execution_count": null,
   "id": "6ded2bfe",
   "metadata": {},
   "outputs": [],
   "source": []
  }
 ],
 "metadata": {
  "kernelspec": {
   "display_name": "Python 3 (ipykernel)",
   "language": "python",
   "name": "python3"
  },
  "language_info": {
   "codemirror_mode": {
    "name": "ipython",
    "version": 3
   },
   "file_extension": ".py",
   "mimetype": "text/x-python",
   "name": "python",
   "nbconvert_exporter": "python",
   "pygments_lexer": "ipython3",
   "version": "3.8.12"
  }
 },
 "nbformat": 4,
 "nbformat_minor": 5
}
